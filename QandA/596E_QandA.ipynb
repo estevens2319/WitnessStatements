{
  "cells": [
    {
      "cell_type": "code",
      "execution_count": 1,
      "metadata": {
        "colab": {
          "base_uri": "https://localhost:8080/"
        },
        "id": "kfbu1MOFZVxA",
        "outputId": "f66a4369-f21e-4541-c8df-09de72360e27"
      },
      "outputs": [
        {
          "name": "stdout",
          "output_type": "stream",
          "text": [
            "Collecting pip\n",
            "  Downloading pip-23.3.1-py3-none-any.whl (2.1 MB)\n",
            "Installing collected packages: pip\n",
            "  Attempting uninstall: pip\n",
            "    Found existing installation: pip 20.1.1\n",
            "    Uninstalling pip-20.1.1:\n",
            "      Successfully uninstalled pip-20.1.1\n"
          ]
        },
        {
          "name": "stderr",
          "output_type": "stream",
          "text": [
            "ERROR: Could not install packages due to an EnvironmentError: [WinError 5] Access is denied: 'C:\\\\Users\\\\uspeo\\\\AppData\\\\Local\\\\Temp\\\\pip-uninstall-bwnafjrc\\\\pip.exe'\n",
            "Consider using the `--user` option or check the permissions.\n",
            "\n"
          ]
        }
      ],
      "source": [
        "!pip install --upgrade pip"
      ]
    },
    {
      "cell_type": "code",
      "execution_count": 20,
      "metadata": {
        "id": "x1VWxIDsoN5k"
      },
      "outputs": [
        {
          "name": "stdout",
          "output_type": "stream",
          "text": [
            "Requirement already satisfied: treelib in c:\\users\\uspeo\\appdata\\local\\programs\\pythoncodingpack\\lib\\site-packages (1.7.0)\n",
            "Requirement already satisfied: six in c:\\users\\uspeo\\appdata\\roaming\\python\\python38\\site-packages (from treelib) (1.16.0)\n"
          ]
        }
      ],
      "source": [
        "!pip install treelib"
      ]
    },
    {
      "cell_type": "code",
      "execution_count": 2,
      "metadata": {
        "colab": {
          "base_uri": "https://localhost:8080/"
        },
        "id": "0zVzFauRXCsS",
        "outputId": "0a2e536f-8c59-4b25-b8df-83440580a2f2"
      },
      "outputs": [
        {
          "name": "stdout",
          "output_type": "stream",
          "text": [
            "Collecting transformers[sentencepiece]\n",
            "  Downloading transformers-4.34.1-py3-none-any.whl.metadata (121 kB)\n",
            "     -------------------------------------- 121.5/121.5 kB 3.6 MB/s eta 0:00:00\n",
            "Collecting filelock (from transformers[sentencepiece])\n",
            "  Downloading filelock-3.12.4-py3-none-any.whl.metadata (2.8 kB)\n",
            "Collecting huggingface-hub<1.0,>=0.16.4 (from transformers[sentencepiece])\n",
            "  Downloading huggingface_hub-0.18.0-py3-none-any.whl.metadata (13 kB)\n",
            "Requirement already satisfied: numpy>=1.17 in c:\\users\\uspeo\\appdata\\local\\programs\\pythoncodingpack\\lib\\site-packages (from transformers[sentencepiece]) (1.22.3)\n",
            "Requirement already satisfied: packaging>=20.0 in c:\\users\\uspeo\\appdata\\local\\programs\\pythoncodingpack\\lib\\site-packages (from transformers[sentencepiece]) (23.1)\n",
            "Requirement already satisfied: pyyaml>=5.1 in c:\\users\\uspeo\\appdata\\local\\programs\\pythoncodingpack\\lib\\site-packages (from transformers[sentencepiece]) (6.0)\n",
            "Requirement already satisfied: regex!=2019.12.17 in c:\\users\\uspeo\\appdata\\local\\programs\\pythoncodingpack\\lib\\site-packages (from transformers[sentencepiece]) (2023.3.23)\n",
            "Requirement already satisfied: requests in c:\\users\\uspeo\\appdata\\local\\programs\\pythoncodingpack\\lib\\site-packages (from transformers[sentencepiece]) (2.27.1)\n",
            "Collecting tokenizers<0.15,>=0.14 (from transformers[sentencepiece])\n",
            "  Downloading tokenizers-0.14.1-cp38-none-win_amd64.whl.metadata (6.8 kB)\n",
            "Collecting safetensors>=0.3.1 (from transformers[sentencepiece])\n",
            "  Downloading safetensors-0.4.0-cp38-none-win_amd64.whl.metadata (3.8 kB)\n",
            "Requirement already satisfied: tqdm>=4.27 in c:\\users\\uspeo\\appdata\\local\\programs\\pythoncodingpack\\lib\\site-packages (from transformers[sentencepiece]) (4.62.3)\n",
            "Collecting sentencepiece!=0.1.92,>=0.1.91 (from transformers[sentencepiece])\n",
            "  Downloading sentencepiece-0.1.99-cp38-cp38-win_amd64.whl (977 kB)\n",
            "     ------------------------------------- 977.6/977.6 kB 12.4 MB/s eta 0:00:00\n",
            "Requirement already satisfied: protobuf in c:\\users\\uspeo\\appdata\\local\\programs\\pythoncodingpack\\lib\\site-packages (from transformers[sentencepiece]) (3.20.1)\n",
            "Requirement already satisfied: fsspec>=2023.5.0 in c:\\users\\uspeo\\appdata\\local\\programs\\pythoncodingpack\\lib\\site-packages (from huggingface-hub<1.0,>=0.16.4->transformers[sentencepiece]) (2023.9.1)\n",
            "Requirement already satisfied: typing-extensions>=3.7.4.3 in c:\\users\\uspeo\\appdata\\local\\programs\\pythoncodingpack\\lib\\site-packages (from huggingface-hub<1.0,>=0.16.4->transformers[sentencepiece]) (4.1.1)\n",
            "Collecting huggingface-hub<1.0,>=0.16.4 (from transformers[sentencepiece])\n",
            "  Downloading huggingface_hub-0.17.3-py3-none-any.whl.metadata (13 kB)\n",
            "Requirement already satisfied: colorama in c:\\users\\uspeo\\appdata\\roaming\\python\\python38\\site-packages (from tqdm>=4.27->transformers[sentencepiece]) (0.4.4)\n",
            "Requirement already satisfied: urllib3<1.27,>=1.21.1 in c:\\users\\uspeo\\appdata\\local\\programs\\pythoncodingpack\\lib\\site-packages (from requests->transformers[sentencepiece]) (1.26.9)\n",
            "Requirement already satisfied: certifi>=2017.4.17 in c:\\users\\uspeo\\appdata\\local\\programs\\pythoncodingpack\\lib\\site-packages (from requests->transformers[sentencepiece]) (2020.6.20)\n",
            "Requirement already satisfied: charset-normalizer~=2.0.0 in c:\\users\\uspeo\\appdata\\local\\programs\\pythoncodingpack\\lib\\site-packages (from requests->transformers[sentencepiece]) (2.0.12)\n",
            "Requirement already satisfied: idna<4,>=2.5 in c:\\users\\uspeo\\appdata\\local\\programs\\pythoncodingpack\\lib\\site-packages (from requests->transformers[sentencepiece]) (3.3)\n",
            "Downloading safetensors-0.4.0-cp38-none-win_amd64.whl (277 kB)\n",
            "   --------------------------------------- 277.4/277.4 kB 17.8 MB/s eta 0:00:00\n",
            "Downloading tokenizers-0.14.1-cp38-none-win_amd64.whl (2.2 MB)\n",
            "   ---------------------------------------- 2.2/2.2 MB 15.6 MB/s eta 0:00:00\n",
            "Downloading huggingface_hub-0.17.3-py3-none-any.whl (295 kB)\n",
            "   ---------------------------------------- 295.0/295.0 kB 9.2 MB/s eta 0:00:00\n",
            "Downloading filelock-3.12.4-py3-none-any.whl (11 kB)\n",
            "Downloading transformers-4.34.1-py3-none-any.whl (7.7 MB)\n",
            "   ---------------------------------------- 7.7/7.7 MB 24.8 MB/s eta 0:00:00\n",
            "Installing collected packages: sentencepiece, safetensors, filelock, huggingface-hub, tokenizers, transformers\n",
            "Successfully installed filelock-3.12.4 huggingface-hub-0.17.3 safetensors-0.4.0 sentencepiece-0.1.99 tokenizers-0.14.1 transformers-4.34.1\n"
          ]
        }
      ],
      "source": [
        "!pip install transformers[sentencepiece]"
      ]
    },
    {
      "cell_type": "code",
      "execution_count": 3,
      "metadata": {
        "colab": {
          "base_uri": "https://localhost:8080/"
        },
        "id": "VlB0F9M8ZFgd",
        "outputId": "b1065f26-a332-4ade-d50e-704e343ee2b1"
      },
      "outputs": [
        {
          "name": "stdout",
          "output_type": "stream",
          "text": [
            "Requirement already satisfied: sentencepiece in c:\\users\\uspeo\\appdata\\local\\programs\\pythoncodingpack\\lib\\site-packages (0.1.99)\n"
          ]
        }
      ],
      "source": [
        "!pip install sentencepiece"
      ]
    },
    {
      "cell_type": "code",
      "execution_count": 4,
      "metadata": {
        "colab": {
          "base_uri": "https://localhost:8080/",
          "height": 249,
          "referenced_widgets": [
            "26eb5dd42914450ab6128aabe4746dee",
            "afb5d9e845eb4a52b7babd182b5d1e5f",
            "b80ce3ce2f2f4333bcff71cf4dfc5001",
            "06233c7cd6e340869e13a66297bb5769",
            "11615778e4f7439d98e667f6789fd6ee",
            "c2c7881760f647ba9a97915e93e7ce5f",
            "e9085af195ac4452bff7ec786ab962fa",
            "8158e31b61464a699f0e089bce816b04",
            "5ed71ea358a34bff9ca30b75c4fdd404",
            "b69acd8285684229aebac3875657fa15",
            "ba3864f590654dc3a863b2fff564c879",
            "5db07c76f5af4d089179b1a0d1bf9f4f",
            "11dd888aff114231afbd5ed84e46cbbb",
            "280fb0bbb44141a888eb7bddd433aa0e",
            "57f641ac5fef43a4838db3ca4d4986c5",
            "624498f61c0346dbba24690203ad984d",
            "fe56fca296ce4987821bbc144a41535a",
            "0b48893ce6874300b8503003d0c721a8",
            "d22a07f6a589415fac48587ccd29bbb9",
            "0a40713758224037ba29383b1cc968a4",
            "30d7c662a5604534b6ae1f30ec46e9b2",
            "a29993282d2b476a972d476bc848d7d9",
            "557b1d65ebf84880b87aebc244047933",
            "8a762c854e9249eca4003cc5b706d6fa",
            "11190a659f4248b9a82ba8a562cb4a6a",
            "41b42c1c92d440889b6920c7b8aa20f7",
            "80c2c1b6e0974efa94eab76b98796126",
            "546afe89016e499b80bac06c7300b5a3",
            "2f413969f9ef4f98a52f63b2241516ef",
            "648c27457c084e5a86aa1006425f272f",
            "0aa04ee626154662b7dcb53f2a55462c",
            "b4dacba8ff2b4677ab9eddb1c880d8c5",
            "18ccbd4c7c854c6face8eeeaf4236ef7",
            "6419821c782d48b79a77825f75672c7f",
            "0a39196055d54ed987802074ab59e288",
            "0e5a17fb2f254e49918f1d2cbd91a75a",
            "0c15acd8387a4fbbac208dfea26fcf27",
            "8d38c35a3b2e4319b7a346bf4b9d36e3",
            "9c6ea0e9c3a3498fb62a553d165bbb19",
            "d513ac3a33834ab0a5632c8c3b59f0c1",
            "42e5d8c473bd4a6f8731fdef6bd99c50",
            "6f66d1cfb7f7468a912985caece14039",
            "b2e6bbb0424241e09e6a0dff7152b9c7",
            "fe87582f415b40b8aa8c91f0cb9a264f",
            "184f40123e7c43cd97cfae007fd5bc0d",
            "bef028d4b7194298971de7d6b6a5d536",
            "7a390f810d684e5088762025132b26ef",
            "4f2c882910444c708bd41bca2665bc7e",
            "687f3535554341f3a92c8a8e19220dd8",
            "bab4b523c5654b88bff5ab65fc98ad02",
            "d1d79e7e216d42adb86e5c1e16bf1323",
            "553ba9ba2bea41b5984572c86fc9a57d",
            "e6e08772161a48219a706b262cf7d3be",
            "4e26662597fc429893a7b864a7d118a4",
            "f1b63aa712924993a9a4ec9a4b1d8103"
          ]
        },
        "id": "3qA1Y1kqW-YX",
        "outputId": "3f3c6eb6-de4d-491a-d896-3ff7d05c9b3c"
      },
      "outputs": [
        {
          "name": "stderr",
          "output_type": "stream",
          "text": [
            "Downloading (…)okenizer_config.json: 100%|██████████| 1.99k/1.99k [00:00<00:00, 978kB/s]\n",
            "Downloading spiece.model: 100%|██████████| 792k/792k [00:00<00:00, 7.25MB/s]\n",
            "Downloading (…)cial_tokens_map.json: 100%|██████████| 1.79k/1.79k [00:00<00:00, 596kB/s]\n",
            "You are using the default legacy behaviour of the <class 'transformers.models.t5.tokenization_t5.T5Tokenizer'>. This is expected, and simply means that the `legacy` (previous) behavior will be used so nothing changes for you. If you want to use the new behaviour, set `legacy=False`. This should only be set if you understand what it means, and thouroughly read the reason why this was added as explained in https://github.com/huggingface/transformers/pull/24565\n",
            "c:\\Users\\uspeo\\AppData\\Local\\Programs\\PythonCodingPack\\lib\\site-packages\\transformers\\models\\auto\\modeling_auto.py:1499: FutureWarning: The class `AutoModelWithLMHead` is deprecated and will be removed in a future version. Please use `AutoModelForCausalLM` for causal language models, `AutoModelForMaskedLM` for masked language models and `AutoModelForSeq2SeqLM` for encoder-decoder models.\n",
            "  warnings.warn(\n",
            "Downloading (…)lve/main/config.json: 100%|██████████| 1.41k/1.41k [00:00<00:00, 464kB/s]\n",
            "Downloading pytorch_model.bin: 100%|██████████| 892M/892M [00:43<00:00, 20.5MB/s] \n"
          ]
        }
      ],
      "source": [
        "from  transformers  import  AutoTokenizer, AutoModelWithLMHead, pipeline\n",
        "\n",
        "model_name = \"MaRiOrOsSi/t5-base-finetuned-question-answering\"\n",
        "tokenizer = AutoTokenizer.from_pretrained(model_name)\n",
        "model = AutoModelWithLMHead.from_pretrained(model_name)\n"
      ]
    },
    {
      "cell_type": "code",
      "execution_count": 5,
      "metadata": {
        "colab": {
          "base_uri": "https://localhost:8080/"
        },
        "id": "2Qkd8Ip3Zz64",
        "outputId": "8f7b5a54-2670-4da8-a97e-28fe0f78d408"
      },
      "outputs": [
        {
          "name": "stderr",
          "output_type": "stream",
          "text": [
            "c:\\Users\\uspeo\\AppData\\Local\\Programs\\PythonCodingPack\\lib\\site-packages\\transformers\\generation\\utils.py:1260: UserWarning: Using the model-agnostic default `max_length` (=20) to control the generation length. We recommend setting `max_new_tokens` to control the maximum length of the generation.\n",
            "  warnings.warn(\n"
          ]
        },
        {
          "name": "stdout",
          "output_type": "stream",
          "text": [
            "Kidnapping\n",
            "expected answer: Kidnapping\n"
          ]
        }
      ],
      "source": [
        "question = \"What was the crime being discussed?\"\n",
        "context = \"\"\"\n",
        "Statement 1:\n",
        "My name is Amanda Wells. On Tuesday afternoon around 3:30pm, I was walking my dog in the park when I heard a child scream. I looked over and saw a man grabbing a young boy who looked about 10 years old. The boy was yelling \"Help, help!\" but the man put his hand over the boy's mouth and dragged him towards a white van. He forced the boy into the side door of the van and then got into the driver's seat and quickly drove off. I immediately called 911 to report what I saw. I really hope they find that poor boy.\n",
        "\n",
        "Statement 2:\n",
        "My name is Mark Jones. On Tuesday around 3:45pm, I was driving down Elm Street when I noticed some commotion in the park. I pulled over and saw a man pulling a young boy into a white van. The boy was crying and trying to get away but the man was too strong. He shoved the boy into the van and sped off. I tried to get the license plate number but couldn't see it clearly. The boy looked about 10 years old with brown hair and a red shirt. I called 911 and reported the incident as a likely kidnapping. I hope they find him soon.\n",
        "\n",
        "Statement 3:\n",
        "My name is Sarah Davis. I was in the park with my children on Tuesday afternoon when I witnessed a kidnapping. Around 3:30pm, a man in a black hoodie grabbed a young boy who was playing on the swings. The boy screamed \"Let me go!\" but the man covered his mouth and dragged him toward a white van parked nearby. He forced the boy into the van and drove off quickly. The boy appeared to be about 10 years old with blond hair and was wearing a blue t-shirt. I immediately pulled out my phone, dialed 911, and told them what I saw. I hope the police can rescue that poor child.\n",
        "\n",
        "Statement 4:\n",
        "My name is Jack Wilson. On Tuesday at approximately 3:35pm, I witnessed a kidnapping at the park on Oak Street. I saw a man wearing a black ski mask jump out of a white van, grab a young boy off the sidewalk, and force him into the van. The boy looked about 10 years old with brown hair and was crying for help. I yelled at the man to stop but he drove off quickly with the boy in his van. I called the police immediately and reported the license plate number as ABC-1234. I really hope they find that kid soon. The police need to catch this criminal.\n",
        "\n",
        "Statement 5:\n",
        "My name is Lisa Chen. I was walking through the park on Tuesday afternoon when I saw a frightening scene. A man in a gray sweatshirt and jeans was forcibly dragging a young boy toward a white van. The boy was screaming \"Help me!\" but the man put a hand over his mouth and shoved him into the side door of the van. The boy looked about 10 years old with sandy blonde hair. I tried to intervene but the man drove off in a hurry before I could do anything. I immediately took out my cell phone and called the police to report the kidnapping. I really hope they can find the boy and arrest whoever took him. It was an incredibly disturbing thing to witness.\"\n",
        "\"\"\"\n",
        "input = f\"question: {question} context: {context}\"\n",
        "encoded_input = tokenizer([input],\n",
        "                             return_tensors='pt',\n",
        "                             max_length=2048,\n",
        "                             truncation=True)\n",
        "output = model.generate(input_ids = encoded_input.input_ids,\n",
        "                            attention_mask = encoded_input.attention_mask)\n",
        "crime_description = tokenizer.decode(output[0], skip_special_tokens=True)\n",
        "print(crime_description)\n",
        "print(\"expected answer: Kidnapping\")"
      ]
    },
    {
      "cell_type": "code",
      "execution_count": 6,
      "metadata": {
        "colab": {
          "base_uri": "https://localhost:8080/"
        },
        "id": "-Y6F_p5nafbj",
        "outputId": "eee092a6-263c-45a5-e86b-0dc6104a65b8"
      },
      "outputs": [
        {
          "name": "stdout",
          "output_type": "stream",
          "text": [
            "female\n",
            "expected answer: male\n"
          ]
        }
      ],
      "source": [
        "question = \"What is the gender of the criminal?\"\n",
        "context = \"\"\"\n",
        "Statement 1:\n",
        "My name is Amanda Wells. On Tuesday afternoon around 3:30pm, I was walking my dog in the park when I heard a child scream. I looked over and saw a man grabbing a young boy who looked about 10 years old. The boy was yelling \"Help, help!\" but the man put his hand over the boy's mouth and dragged him towards a white van. He forced the boy into the side door of the van and then got into the driver's seat and quickly drove off. I immediately called 911 to report what I saw. I really hope they find that poor boy.\n",
        "\n",
        "Statement 2:\n",
        "My name is Mark Jones. On Tuesday around 3:45pm, I was driving down Elm Street when I noticed some commotion in the park. I pulled over and saw a man pulling a young boy into a white van. The boy was crying and trying to get away but the man was too strong. He shoved the boy into the van and sped off. I tried to get the license plate number but couldn't see it clearly. The boy looked about 10 years old with brown hair and a red shirt. I called 911 and reported the incident as a likely kidnapping. I hope they find him soon.\n",
        "\n",
        "Statement 3:\n",
        "My name is Sarah Davis. I was in the park with my children on Tuesday afternoon when I witnessed a kidnapping. Around 3:30pm, a man in a black hoodie grabbed a young boy who was playing on the swings. The boy screamed \"Let me go!\" but the man covered his mouth and dragged him toward a white van parked nearby. He forced the boy into the van and drove off quickly. The boy appeared to be about 10 years old with blond hair and was wearing a blue t-shirt. I immediately pulled out my phone, dialed 911, and told them what I saw. I hope the police can rescue that poor child.\n",
        "\n",
        "Statement 4:\n",
        "My name is Jack Wilson. On Tuesday at approximately 3:35pm, I witnessed a kidnapping at the park on Oak Street. I saw a man wearing a black ski mask jump out of a white van, grab a young boy off the sidewalk, and force him into the van. The boy looked about 10 years old with brown hair and was crying for help. I yelled at the man to stop but he drove off quickly with the boy in his van. I called the police immediately and reported the license plate number as ABC-1234. I really hope they find that kid soon. The police need to catch this criminal.\n",
        "\n",
        "Statement 5:\n",
        "My name is Lisa Chen. I was walking through the park on Tuesday afternoon when I saw a frightening scene. A man in a gray sweatshirt and jeans was forcibly dragging a young boy toward a white van. The boy was screaming \"Help me!\" but the man put a hand over his mouth and shoved him into the side door of the van. The boy looked about 10 years old with sandy blonde hair. I tried to intervene but the man drove off in a hurry before I could do anything. I immediately took out my cell phone and called the police to report the kidnapping. I really hope they can find the boy and arrest whoever took him. It was an incredibly disturbing thing to witness.\"\n",
        "\"\"\"\n",
        "input = f\"question: {question} context: {context}\"\n",
        "encoded_input = tokenizer([input],\n",
        "                             return_tensors='pt',\n",
        "                             max_length=2048,\n",
        "                             truncation=True)\n",
        "output = model.generate(input_ids = encoded_input.input_ids,\n",
        "                            attention_mask = encoded_input.attention_mask)\n",
        "criminal_gender = tokenizer.decode(output[0], skip_special_tokens=True)\n",
        "print(criminal_gender)\n",
        "print(\"expected answer: male\")"
      ]
    },
    {
      "cell_type": "code",
      "execution_count": 7,
      "metadata": {
        "colab": {
          "base_uri": "https://localhost:8080/"
        },
        "id": "d9s2rxgWavpk",
        "outputId": "736b84df-e633-43d3-904e-34d4e70ba205"
      },
      "outputs": [
        {
          "name": "stdout",
          "output_type": "stream",
          "text": [
            "Yes.\n",
            "expected answer: Yes\n"
          ]
        }
      ],
      "source": [
        "question = \"Was there a vehicle mentioned in the statements?\"\n",
        "context = \"\"\"\n",
        "Statement 1:\n",
        "My name is Amanda Wells. On Tuesday afternoon around 3:30pm, I was walking my dog in the park when I heard a child scream. I looked over and saw a man grabbing a young boy who looked about 10 years old. The boy was yelling \"Help, help!\" but the man put his hand over the boy's mouth and dragged him towards a white van. He forced the boy into the side door of the van and then got into the driver's seat and quickly drove off. I immediately called 911 to report what I saw. I really hope they find that poor boy.\n",
        "\n",
        "Statement 2:\n",
        "My name is Mark Jones. On Tuesday around 3:45pm, I was driving down Elm Street when I noticed some commotion in the park. I pulled over and saw a man pulling a young boy into a white van. The boy was crying and trying to get away but the man was too strong. He shoved the boy into the van and sped off. I tried to get the license plate number but couldn't see it clearly. The boy looked about 10 years old with brown hair and a red shirt. I called 911 and reported the incident as a likely kidnapping. I hope they find him soon.\n",
        "\n",
        "Statement 3:\n",
        "My name is Sarah Davis. I was in the park with my children on Tuesday afternoon when I witnessed a kidnapping. Around 3:30pm, a man in a black hoodie grabbed a young boy who was playing on the swings. The boy screamed \"Let me go!\" but the man covered his mouth and dragged him toward a white van parked nearby. He forced the boy into the van and drove off quickly. The boy appeared to be about 10 years old with blond hair and was wearing a blue t-shirt. I immediately pulled out my phone, dialed 911, and told them what I saw. I hope the police can rescue that poor child.\n",
        "\n",
        "Statement 4:\n",
        "My name is Jack Wilson. On Tuesday at approximately 3:35pm, I witnessed a kidnapping at the park on Oak Street. I saw a man wearing a black ski mask jump out of a white van, grab a young boy off the sidewalk, and force him into the van. The boy looked about 10 years old with brown hair and was crying for help. I yelled at the man to stop but he drove off quickly with the boy in his van. I called the police immediately and reported the license plate number as ABC-1234. I really hope they find that kid soon. The police need to catch this criminal.\n",
        "\n",
        "Statement 5:\n",
        "My name is Lisa Chen. I was walking through the park on Tuesday afternoon when I saw a frightening scene. A man in a gray sweatshirt and jeans was forcibly dragging a young boy toward a white van. The boy was screaming \"Help me!\" but the man put a hand over his mouth and shoved him into the side door of the van. The boy looked about 10 years old with sandy blonde hair. I tried to intervene but the man drove off in a hurry before I could do anything. I immediately took out my cell phone and called the police to report the kidnapping. I really hope they can find the boy and arrest whoever took him. It was an incredibly disturbing thing to witness.\"\n",
        "\"\"\"\n",
        "input = f\"question: {question} context: {context}\"\n",
        "encoded_input = tokenizer([input],\n",
        "                             return_tensors='pt',\n",
        "                             max_length=2048,\n",
        "                             truncation=True)\n",
        "output = model.generate(input_ids = encoded_input.input_ids,\n",
        "                            attention_mask = encoded_input.attention_mask)\n",
        "output = tokenizer.decode(output[0], skip_special_tokens=True)\n",
        "print(output)\n",
        "print(\"expected answer: Yes\")"
      ]
    },
    {
      "cell_type": "code",
      "execution_count": 8,
      "metadata": {
        "colab": {
          "base_uri": "https://localhost:8080/"
        },
        "id": "e3QAWT0HbTu3",
        "outputId": "d99f3116-bf4d-4c11-9ee2-d4bd40354eaf"
      },
      "outputs": [
        {
          "name": "stdout",
          "output_type": "stream",
          "text": [
            "abc-1234\n",
            "ABC-1234\n"
          ]
        }
      ],
      "source": [
        "question = \"what is the liscence plate of the vehicle involved in the crime?\"\n",
        "context = \"\"\"\n",
        "Statement 1:\n",
        "My name is Amanda Wells. On Tuesday afternoon around 3:30pm, I was walking my dog in the park when I heard a child scream. I looked over and saw a man grabbing a young boy who looked about 10 years old. The boy was yelling \"Help, help!\" but the man put his hand over the boy's mouth and dragged him towards a white van. He forced the boy into the side door of the van and then got into the driver's seat and quickly drove off. I immediately called 911 to report what I saw. I really hope they find that poor boy.\n",
        "\n",
        "Statement 2:\n",
        "My name is Mark Jones. On Tuesday around 3:45pm, I was driving down Elm Street when I noticed some commotion in the park. I pulled over and saw a man pulling a young boy into a white van. The boy was crying and trying to get away but the man was too strong. He shoved the boy into the van and sped off. I tried to get the license plate number but couldn't see it clearly. The boy looked about 10 years old with brown hair and a red shirt. I called 911 and reported the incident as a likely kidnapping. I hope they find him soon.\n",
        "\n",
        "Statement 3:\n",
        "My name is Sarah Davis. I was in the park with my children on Tuesday afternoon when I witnessed a kidnapping. Around 3:30pm, a man in a black hoodie grabbed a young boy who was playing on the swings. The boy screamed \"Let me go!\" but the man covered his mouth and dragged him toward a white van parked nearby. He forced the boy into the van and drove off quickly. The boy appeared to be about 10 years old with blond hair and was wearing a blue t-shirt. I immediately pulled out my phone, dialed 911, and told them what I saw. I hope the police can rescue that poor child.\n",
        "\n",
        "Statement 4:\n",
        "My name is Jack Wilson. On Tuesday at approximately 3:35pm, I witnessed a kidnapping at the park on Oak Street. I saw a man wearing a black ski mask jump out of a white van, grab a young boy off the sidewalk, and force him into the van. The boy looked about 10 years old with brown hair and was crying for help. I yelled at the man to stop but he drove off quickly with the boy in his van. I called the police immediately and reported the license plate number as ABC-1234. I really hope they find that kid soon. The police need to catch this criminal.\n",
        "\n",
        "Statement 5:\n",
        "My name is Lisa Chen. I was walking through the park on Tuesday afternoon when I saw a frightening scene. A man in a gray sweatshirt and jeans was forcibly dragging a young boy toward a white van. The boy was screaming \"Help me!\" but the man put a hand over his mouth and shoved him into the side door of the van. The boy looked about 10 years old with sandy blonde hair. I tried to intervene but the man drove off in a hurry before I could do anything. I immediately took out my cell phone and called the police to report the kidnapping. I really hope they can find the boy and arrest whoever took him. It was an incredibly disturbing thing to witness.\"\n",
        "\"\"\"\n",
        "input = f\"question: {question} context: {context}\"\n",
        "encoded_input = tokenizer([input],\n",
        "                             return_tensors='pt',\n",
        "                             max_length=2048,\n",
        "                             truncation=True)\n",
        "output = model.generate(input_ids = encoded_input.input_ids,\n",
        "                            attention_mask = encoded_input.attention_mask)\n",
        "crime_vehicle = tokenizer.decode(output[0], skip_special_tokens=True)\n",
        "print(crime_vehicle)\n",
        "print(\"ABC-1234\" )\n"
      ]
    },
    {
      "cell_type": "code",
      "execution_count": 9,
      "metadata": {
        "colab": {
          "base_uri": "https://localhost:8080/"
        },
        "id": "QH_P0xv8dA68",
        "outputId": "6e554092-1ad5-4437-af86-7d1d6e8c169e"
      },
      "outputs": [
        {
          "name": "stdout",
          "output_type": "stream",
          "text": [
            "A white van\n",
            "expected answer: A white van with liscence plate ABC-1234\n"
          ]
        }
      ],
      "source": [
        "question = \"What does the vehicle look like?\"\n",
        "context = \"\"\"\n",
        "Statement 1:\n",
        "My name is Amanda Wells. On Tuesday afternoon around 3:30pm, I was walking my dog in the park when I heard a child scream. I looked over and saw a man grabbing a young boy who looked about 10 years old. The boy was yelling \"Help, help!\" but the man put his hand over the boy's mouth and dragged him towards a white van. He forced the boy into the side door of the van and then got into the driver's seat and quickly drove off. I immediately called 911 to report what I saw. I really hope they find that poor boy.\n",
        "\n",
        "Statement 2:\n",
        "My name is Mark Jones. On Tuesday around 3:45pm, I was driving down Elm Street when I noticed some commotion in the park. I pulled over and saw a man pulling a young boy into a white van. The boy was crying and trying to get away but the man was too strong. He shoved the boy into the van and sped off. I tried to get the license plate number but couldn't see it clearly. The boy looked about 10 years old with brown hair and a red shirt. I called 911 and reported the incident as a likely kidnapping. I hope they find him soon.\n",
        "\n",
        "Statement 3:\n",
        "My name is Sarah Davis. I was in the park with my children on Tuesday afternoon when I witnessed a kidnapping. Around 3:30pm, a man in a black hoodie grabbed a young boy who was playing on the swings. The boy screamed \"Let me go!\" but the man covered his mouth and dragged him toward a white van parked nearby. He forced the boy into the van and drove off quickly. The boy appeared to be about 10 years old with blond hair and was wearing a blue t-shirt. I immediately pulled out my phone, dialed 911, and told them what I saw. I hope the police can rescue that poor child.\n",
        "\n",
        "Statement 4:\n",
        "My name is Jack Wilson. On Tuesday at approximately 3:35pm, I witnessed a kidnapping at the park on Oak Street. I saw a man wearing a black ski mask jump out of a white van, grab a young boy off the sidewalk, and force him into the van. The boy looked about 10 years old with brown hair and was crying for help. I yelled at the man to stop but he drove off quickly with the boy in his van. I called the police immediately and reported the license plate number as ABC-1234. I really hope they find that kid soon. The police need to catch this criminal.\n",
        "\n",
        "Statement 5:\n",
        "My name is Lisa Chen. I was walking through the park on Tuesday afternoon when I saw a frightening scene. A man in a gray sweatshirt and jeans was forcibly dragging a young boy toward a white van. The boy was screaming \"Help me!\" but the man put a hand over his mouth and shoved him into the side door of the van. The boy looked about 10 years old with sandy blonde hair. I tried to intervene but the man drove off in a hurry before I could do anything. I immediately took out my cell phone and called the police to report the kidnapping. I really hope they can find the boy and arrest whoever took him. It was an incredibly disturbing thing to witness.\"\n",
        "\"\"\"\n",
        "input = f\"question: {question} context: {context}\"\n",
        "encoded_input = tokenizer([input],\n",
        "                             return_tensors='pt',\n",
        "                             max_length=2048,\n",
        "                             truncation=True)\n",
        "output = model.generate(input_ids = encoded_input.input_ids,\n",
        "                            attention_mask = encoded_input.attention_mask)\n",
        "crime_vehicle_number = tokenizer.decode(output[0], skip_special_tokens=True)\n",
        "print(crime_vehicle_number)\n",
        "print(\"expected answer: A white van with liscence plate ABC-1234\" )\n"
      ]
    },
    {
      "cell_type": "code",
      "execution_count": 10,
      "metadata": {
        "colab": {
          "base_uri": "https://localhost:8080/"
        },
        "id": "jkRBDCkTfld3",
        "outputId": "980a1005-e144-4565-87c3-e4bfa1d5e427"
      },
      "outputs": [
        {
          "name": "stdout",
          "output_type": "stream",
          "text": [
            "A teenager\n",
            "expected answer: <>\n"
          ]
        }
      ],
      "source": [
        "question = \"What did the criminal look like?\"\n",
        "context = \"\"\"\n",
        "Statement 1:\n",
        "My name is Amanda Wells. On Tuesday afternoon around 3:30pm, I was walking my dog in the park when I heard a child scream. I looked over and saw a man grabbing a young boy who looked about 10 years old. The boy was yelling \"Help, help!\" but the man put his hand over the boy's mouth and dragged him towards a white van. He forced the boy into the side door of the van and then got into the driver's seat and quickly drove off. I immediately called 911 to report what I saw. I really hope they find that poor boy.\n",
        "\n",
        "Statement 2:\n",
        "My name is Mark Jones. On Tuesday around 3:45pm, I was driving down Elm Street when I noticed some commotion in the park. I pulled over and saw a man pulling a young boy into a white van. The boy was crying and trying to get away but the man was too strong. He shoved the boy into the van and sped off. I tried to get the license plate number but couldn't see it clearly. The boy looked about 10 years old with brown hair and a red shirt. I called 911 and reported the incident as a likely kidnapping. I hope they find him soon.\n",
        "\n",
        "Statement 3:\n",
        "My name is Sarah Davis. I was in the park with my children on Tuesday afternoon when I witnessed a kidnapping. Around 3:30pm, a man in a black hoodie grabbed a young boy who was playing on the swings. The boy screamed \"Let me go!\" but the man covered his mouth and dragged him toward a white van parked nearby. He forced the boy into the van and drove off quickly. The boy appeared to be about 10 years old with blond hair and was wearing a blue t-shirt. I immediately pulled out my phone, dialed 911, and told them what I saw. I hope the police can rescue that poor child.\n",
        "\n",
        "Statement 4:\n",
        "My name is Jack Wilson. On Tuesday at approximately 3:35pm, I witnessed a kidnapping at the park on Oak Street. I saw a man wearing a black ski mask jump out of a white van, grab a young boy off the sidewalk, and force him into the van. The boy looked about 10 years old with brown hair and was crying for help. I yelled at the man to stop but he drove off quickly with the boy in his van. I called the police immediately and reported the license plate number as ABC-1234. I really hope they find that kid soon. The police need to catch this criminal.\n",
        "\n",
        "Statement 5:\n",
        "My name is Lisa Chen. I was walking through the park on Tuesday afternoon when I saw a frightening scene. A man in a gray sweatshirt and jeans was forcibly dragging a young boy toward a white van. The boy was screaming \"Help me!\" but the man put a hand over his mouth and shoved him into the side door of the van. The boy looked about 10 years old with sandy blonde hair. I tried to intervene but the man drove off in a hurry before I could do anything. I immediately took out my cell phone and called the police to report the kidnapping. I really hope they can find the boy and arrest whoever took him. It was an incredibly disturbing thing to witness.\"\n",
        "\"\"\"\n",
        "input = f\"question: {question} context: {context}\"\n",
        "encoded_input = tokenizer([input],\n",
        "                             return_tensors='pt',\n",
        "                             max_length=2048,\n",
        "                             truncation=True)\n",
        "output = model.generate(input_ids = encoded_input.input_ids,\n",
        "                            attention_mask = encoded_input.attention_mask)\n",
        "criminal_desc = tokenizer.decode(output[0], skip_special_tokens=True)\n",
        "print(criminal_desc)\n",
        "print(\"expected answer: <>\" )\n"
      ]
    },
    {
      "cell_type": "code",
      "execution_count": 11,
      "metadata": {
        "colab": {
          "base_uri": "https://localhost:8080/"
        },
        "id": "HHEpO7Q3fqyt",
        "outputId": "680b30e4-8809-4688-c0e3-fe6a6a725596"
      },
      "outputs": [
        {
          "name": "stdout",
          "output_type": "stream",
          "text": [
            "A gray sweatshirt and jeans\n",
            "expected answer: a black/grey hoodie\n"
          ]
        }
      ],
      "source": [
        "question = \"What did the criminal wear?\"\n",
        "context = \"\"\"\n",
        "Statement 1:\n",
        "My name is Amanda Wells. On Tuesday afternoon around 3:30pm, I was walking my dog in the park when I heard a child scream. I looked over and saw a man grabbing a young boy who looked about 10 years old. The boy was yelling \"Help, help!\" but the man put his hand over the boy's mouth and dragged him towards a white van. He forced the boy into the side door of the van and then got into the driver's seat and quickly drove off. I immediately called 911 to report what I saw. I really hope they find that poor boy.\n",
        "\n",
        "Statement 2:\n",
        "My name is Mark Jones. On Tuesday around 3:45pm, I was driving down Elm Street when I noticed some commotion in the park. I pulled over and saw a man pulling a young boy into a white van. The boy was crying and trying to get away but the man was too strong. He shoved the boy into the van and sped off. I tried to get the license plate number but couldn't see it clearly. The boy looked about 10 years old with brown hair and a red shirt. I called 911 and reported the incident as a likely kidnapping. I hope they find him soon.\n",
        "\n",
        "Statement 3:\n",
        "My name is Sarah Davis. I was in the park with my children on Tuesday afternoon when I witnessed a kidnapping. Around 3:30pm, a man in a black hoodie grabbed a young boy who was playing on the swings. The boy screamed \"Let me go!\" but the man covered his mouth and dragged him toward a white van parked nearby. He forced the boy into the van and drove off quickly. The boy appeared to be about 10 years old with blond hair and was wearing a blue t-shirt. I immediately pulled out my phone, dialed 911, and told them what I saw. I hope the police can rescue that poor child.\n",
        "\n",
        "Statement 4:\n",
        "My name is Jack Wilson. On Tuesday at approximately 3:35pm, I witnessed a kidnapping at the park on Oak Street. I saw a man wearing a black ski mask jump out of a white van, grab a young boy off the sidewalk, and force him into the van. The boy looked about 10 years old with brown hair and was crying for help. I yelled at the man to stop but he drove off quickly with the boy in his van. I called the police immediately and reported the license plate number as ABC-1234. I really hope they find that kid soon. The police need to catch this criminal.\n",
        "\n",
        "Statement 5:\n",
        "My name is Lisa Chen. I was walking through the park on Tuesday afternoon when I saw a frightening scene. A man in a gray sweatshirt and jeans was forcibly dragging a young boy toward a white van. The boy was screaming \"Help me!\" but the man put a hand over his mouth and shoved him into the side door of the van. The boy looked about 10 years old with sandy blonde hair. I tried to intervene but the man drove off in a hurry before I could do anything. I immediately took out my cell phone and called the police to report the kidnapping. I really hope they can find the boy and arrest whoever took him. It was an incredibly disturbing thing to witness.\"\n",
        "\"\"\"\n",
        "input = f\"question: {question} context: {context}\"\n",
        "encoded_input = tokenizer([input],\n",
        "                             return_tensors='pt',\n",
        "                             max_length=2048,\n",
        "                             truncation=True)\n",
        "output = model.generate(input_ids = encoded_input.input_ids,\n",
        "                            attention_mask = encoded_input.attention_mask)\n",
        "crimial_clothes = tokenizer.decode(output[0], skip_special_tokens=True)\n",
        "print(crimial_clothes)\n",
        "print(\"expected answer: a black/grey hoodie\" )\n"
      ]
    },
    {
      "cell_type": "code",
      "execution_count": 12,
      "metadata": {
        "colab": {
          "base_uri": "https://localhost:8080/"
        },
        "id": "Gu-wL5pWgsYa",
        "outputId": "08aa90c9-1f65-4057-c95d-00a85d268482"
      },
      "outputs": [
        {
          "name": "stdout",
          "output_type": "stream",
          "text": [
            "Female\n",
            "expected answer: Male\n"
          ]
        }
      ],
      "source": [
        "question = \"What was the gender of the victim?\"\n",
        "context = \"\"\"\n",
        "Statement 1:\n",
        "My name is Amanda Wells. On Tuesday afternoon around 3:30pm, I was walking my dog in the park when I heard a child scream. I looked over and saw a man grabbing a young boy who looked about 10 years old. The boy was yelling \"Help, help!\" but the man put his hand over the boy's mouth and dragged him towards a white van. He forced the boy into the side door of the van and then got into the driver's seat and quickly drove off. I immediately called 911 to report what I saw. I really hope they find that poor boy.\n",
        "\n",
        "Statement 2:\n",
        "My name is Mark Jones. On Tuesday around 3:45pm, I was driving down Elm Street when I noticed some commotion in the park. I pulled over and saw a man pulling a young boy into a white van. The boy was crying and trying to get away but the man was too strong. He shoved the boy into the van and sped off. I tried to get the license plate number but couldn't see it clearly. The boy looked about 10 years old with brown hair and a red shirt. I called 911 and reported the incident as a likely kidnapping. I hope they find him soon.\n",
        "\n",
        "Statement 3:\n",
        "My name is Sarah Davis. I was in the park with my children on Tuesday afternoon when I witnessed a kidnapping. Around 3:30pm, a man in a black hoodie grabbed a young boy who was playing on the swings. The boy screamed \"Let me go!\" but the man covered his mouth and dragged him toward a white van parked nearby. He forced the boy into the van and drove off quickly. The boy appeared to be about 10 years old with blond hair and was wearing a blue t-shirt. I immediately pulled out my phone, dialed 911, and told them what I saw. I hope the police can rescue that poor child.\n",
        "\n",
        "Statement 4:\n",
        "My name is Jack Wilson. On Tuesday at approximately 3:35pm, I witnessed a kidnapping at the park on Oak Street. I saw a man wearing a black ski mask jump out of a white van, grab a young boy off the sidewalk, and force him into the van. The boy looked about 10 years old with brown hair and was crying for help. I yelled at the man to stop but he drove off quickly with the boy in his van. I called the police immediately and reported the license plate number as ABC-1234. I really hope they find that kid soon. The police need to catch this criminal.\n",
        "\n",
        "Statement 5:\n",
        "My name is Lisa Chen. I was walking through the park on Tuesday afternoon when I saw a frightening scene. A man in a gray sweatshirt and jeans was forcibly dragging a young boy toward a white van. The boy was screaming \"Help me!\" but the man put a hand over his mouth and shoved him into the side door of the van. The boy looked about 10 years old with sandy blonde hair. I tried to intervene but the man drove off in a hurry before I could do anything. I immediately took out my cell phone and called the police to report the kidnapping. I really hope they can find the boy and arrest whoever took him. It was an incredibly disturbing thing to witness.\"\n",
        "\"\"\"\n",
        "input = f\"question: {question} context: {context}\"\n",
        "encoded_input = tokenizer([input],\n",
        "                             return_tensors='pt',\n",
        "                             max_length=2048,\n",
        "                             truncation=True)\n",
        "output = model.generate(input_ids = encoded_input.input_ids,\n",
        "                            attention_mask = encoded_input.attention_mask)\n",
        "vectim_gender = tokenizer.decode(output[0], skip_special_tokens=True)\n",
        "print(vectim_gender)\n",
        "print(\"expected answer: Male\" )\n"
      ]
    },
    {
      "cell_type": "code",
      "execution_count": 13,
      "metadata": {
        "colab": {
          "base_uri": "https://localhost:8080/"
        },
        "id": "Iiushg5Sh4xa",
        "outputId": "17892e65-a763-41bf-c413-969070604fef"
      },
      "outputs": [
        {
          "name": "stdout",
          "output_type": "stream",
          "text": [
            "20 years old\n",
            "expected answer: 10\n"
          ]
        }
      ],
      "source": [
        "question = \"What was the age of the victim?\"\n",
        "context = \"\"\"\n",
        "Statement 1:\n",
        "My name is Amanda Wells. On Tuesday afternoon around 3:30pm, I was walking my dog in the park when I heard a child scream. I looked over and saw a man grabbing a young boy who looked about 10 years old. The boy was yelling \"Help, help!\" but the man put his hand over the boy's mouth and dragged him towards a white van. He forced the boy into the side door of the van and then got into the driver's seat and quickly drove off. I immediately called 911 to report what I saw. I really hope they find that poor boy.\n",
        "\n",
        "Statement 2:\n",
        "My name is Mark Jones. On Tuesday around 3:45pm, I was driving down Elm Street when I noticed some commotion in the park. I pulled over and saw a man pulling a young boy into a white van. The boy was crying and trying to get away but the man was too strong. He shoved the boy into the van and sped off. I tried to get the license plate number but couldn't see it clearly. The boy looked about 10 years old with brown hair and a red shirt. I called 911 and reported the incident as a likely kidnapping. I hope they find him soon.\n",
        "\n",
        "Statement 3:\n",
        "My name is Sarah Davis. I was in the park with my children on Tuesday afternoon when I witnessed a kidnapping. Around 3:30pm, a man in a black hoodie grabbed a young boy who was playing on the swings. The boy screamed \"Let me go!\" but the man covered his mouth and dragged him toward a white van parked nearby. He forced the boy into the van and drove off quickly. The boy appeared to be about 10 years old with blond hair and was wearing a blue t-shirt. I immediately pulled out my phone, dialed 911, and told them what I saw. I hope the police can rescue that poor child.\n",
        "\n",
        "Statement 4:\n",
        "My name is Jack Wilson. On Tuesday at approximately 3:35pm, I witnessed a kidnapping at the park on Oak Street. I saw a man wearing a black ski mask jump out of a white van, grab a young boy off the sidewalk, and force him into the van. The boy looked about 10 years old with brown hair and was crying for help. I yelled at the man to stop but he drove off quickly with the boy in his van. I called the police immediately and reported the license plate number as ABC-1234. I really hope they find that kid soon. The police need to catch this criminal.\n",
        "\n",
        "Statement 5:\n",
        "My name is Lisa Chen. I was walking through the park on Tuesday afternoon when I saw a frightening scene. A man in a gray sweatshirt and jeans was forcibly dragging a young boy toward a white van. The boy was screaming \"Help me!\" but the man put a hand over his mouth and shoved him into the side door of the van. The boy looked about 10 years old with sandy blonde hair. I tried to intervene but the man drove off in a hurry before I could do anything. I immediately took out my cell phone and called the police to report the kidnapping. I really hope they can find the boy and arrest whoever took him. It was an incredibly disturbing thing to witness.\"\n",
        "\"\"\"\n",
        "input = f\"question: {question} context: {context}\"\n",
        "encoded_input = tokenizer([input],\n",
        "                             return_tensors='pt',\n",
        "                             max_length=2048,\n",
        "                             truncation=True)\n",
        "output = model.generate(input_ids = encoded_input.input_ids,\n",
        "                            attention_mask = encoded_input.attention_mask)\n",
        "vectim_age = tokenizer.decode(output[0], skip_special_tokens=True)\n",
        "print(vectim_age)\n",
        "print(\"expected answer: 10\")\n"
      ]
    },
    {
      "cell_type": "code",
      "execution_count": 14,
      "metadata": {
        "colab": {
          "base_uri": "https://localhost:8080/"
        },
        "id": "jK_iYnhKoQPn",
        "outputId": "798bc69d-af95-41fd-c5e0-0c3f8bccc48b"
      },
      "outputs": [
        {
          "name": "stdout",
          "output_type": "stream",
          "text": [
            "Collecting graphviz\n",
            "  Downloading graphviz-0.20.1-py3-none-any.whl (47 kB)\n",
            "     ---------------------------------------- 47.0/47.0 kB 2.5 MB/s eta 0:00:00\n",
            "Installing collected packages: graphviz\n",
            "Successfully installed graphviz-0.20.1\n"
          ]
        }
      ],
      "source": [
        "!pip install graphviz"
      ]
    },
    {
      "cell_type": "code",
      "execution_count": 15,
      "metadata": {
        "colab": {
          "base_uri": "https://localhost:8080/"
        },
        "id": "FCu0ZmCI2NqE",
        "outputId": "518018d2-2ebc-4dfb-c2c5-3c74c2a9e7b1"
      },
      "outputs": [
        {
          "name": "stdout",
          "output_type": "stream",
          "text": [
            "Collecting treelib\n",
            "  Downloading treelib-1.7.0-py3-none-any.whl.metadata (1.3 kB)\n",
            "Requirement already satisfied: six in c:\\users\\uspeo\\appdata\\roaming\\python\\python38\\site-packages (from treelib) (1.16.0)\n",
            "Downloading treelib-1.7.0-py3-none-any.whl (18 kB)\n",
            "Installing collected packages: treelib\n",
            "Successfully installed treelib-1.7.0\n"
          ]
        }
      ],
      "source": [
        "!pip install treelib"
      ]
    },
    {
      "cell_type": "code",
      "execution_count": 16,
      "metadata": {
        "colab": {
          "base_uri": "https://localhost:8080/"
        },
        "id": "muMcaoHYlQ5y",
        "outputId": "237f9dd7-b7b4-46b7-b77f-cf4e51c52a7e"
      },
      "outputs": [
        {
          "data": {
            "text/plain": [
              "{'victim_age': '20 years old',\n",
              " 'victim gender': 'Female',\n",
              " 'criminal appearance': 'A gray sweatshirt and jeans',\n",
              " 'criminal_desc': 'A teenager',\n",
              " 'crime_vehicle_number': 'abc-1234',\n",
              " 'crime_vehicle': 'A white van',\n",
              " 'criminal_gender': 'female'}"
            ]
          },
          "execution_count": 16,
          "metadata": {},
          "output_type": "execute_result"
        }
      ],
      "source": [
        "description_of_the_crime = {\n",
        "    'victim_age':vectim_age,\n",
        "    'victim gender': vectim_gender,\n",
        "    'criminal appearance': crimial_clothes,\n",
        "    # \"crimial_clothes\":crimial_clothes,\n",
        "    \"criminal_desc\":criminal_desc,\n",
        "    \"crime_vehicle_number\":crime_vehicle,\n",
        "    \"crime_vehicle\":crime_vehicle_number,\n",
        "    \"criminal_gender\":criminal_gender\n",
        "}\n",
        "description_of_the_crime"
      ]
    },
    {
      "cell_type": "code",
      "execution_count": 21,
      "metadata": {
        "colab": {
          "base_uri": "https://localhost:8080/"
        },
        "id": "5xXpL3-q1bw_",
        "outputId": "9245c376-2c85-48fd-bf84-57e127befa08"
      },
      "outputs": [
        {
          "name": "stdout",
          "output_type": "stream",
          "text": [
            "b'Kidnapping\\n\\xe2\\x94\\x9c\\xe2\\x94\\x80\\xe2\\x94\\x80 crime_vehicle\\n\\xe2\\x94\\x82   \\xe2\\x94\\x94\\xe2\\x94\\x80\\xe2\\x94\\x80 A white van\\n\\xe2\\x94\\x9c\\xe2\\x94\\x80\\xe2\\x94\\x80 crime_vehicle_number\\n\\xe2\\x94\\x82   \\xe2\\x94\\x94\\xe2\\x94\\x80\\xe2\\x94\\x80 abc-1234\\n\\xe2\\x94\\x9c\\xe2\\x94\\x80\\xe2\\x94\\x80 criminal appearance\\n\\xe2\\x94\\x82   \\xe2\\x94\\x94\\xe2\\x94\\x80\\xe2\\x94\\x80 A gray sweatshirt and jeans\\n\\xe2\\x94\\x9c\\xe2\\x94\\x80\\xe2\\x94\\x80 criminal_desc\\n\\xe2\\x94\\x82   \\xe2\\x94\\x94\\xe2\\x94\\x80\\xe2\\x94\\x80 A teenager\\n\\xe2\\x94\\x9c\\xe2\\x94\\x80\\xe2\\x94\\x80 criminal_gender\\n\\xe2\\x94\\x82   \\xe2\\x94\\x94\\xe2\\x94\\x80\\xe2\\x94\\x80 female\\n\\xe2\\x94\\x9c\\xe2\\x94\\x80\\xe2\\x94\\x80 victim gender\\n\\xe2\\x94\\x82   \\xe2\\x94\\x94\\xe2\\x94\\x80\\xe2\\x94\\x80 Female\\n\\xe2\\x94\\x94\\xe2\\x94\\x80\\xe2\\x94\\x80 victim_age\\n    \\xe2\\x94\\x94\\xe2\\x94\\x80\\xe2\\x94\\x80 20 years old\\n'\n"
          ]
        }
      ],
      "source": [
        "from treelib import Node, Tree\n",
        "tree = Tree()\n",
        "tree.create_node(crime_description, crime_description)  # root node\n",
        "\n",
        "\n",
        "for key in description_of_the_crime:\n",
        "  tree.create_node(key,key, parent=crime_description)\n",
        "for key in description_of_the_crime:\n",
        "  # for x in description_of_the_crime[key]:\n",
        "    # if(len(x) == 1):\n",
        "    #   continue\n",
        "    tree.create_node(description_of_the_crime[key],description_of_the_crime[key], parent=str(key))\n",
        "\n",
        "tree.show()"
      ]
    },
    {
      "cell_type": "code",
      "execution_count": 22,
      "metadata": {
        "id": "HEvCQPUc2PY8"
      },
      "outputs": [],
      "source": [
        "tree.to_graphviz(filename='test_tree.dot', shape=u'circle', graph=u'digraph')"
      ]
    },
    {
      "cell_type": "code",
      "execution_count": 23,
      "metadata": {
        "id": "uJB0Jllz2Pxs"
      },
      "outputs": [
        {
          "name": "stderr",
          "output_type": "stream",
          "text": [
            "'dot' is not recognized as an internal or external command,\n",
            "operable program or batch file.\n"
          ]
        }
      ],
      "source": [
        "!dot test_tree.dot -Tpng -o test_tree.png"
      ]
    },
    {
      "cell_type": "code",
      "execution_count": null,
      "metadata": {
        "id": "gBnktlJVWp9K"
      },
      "outputs": [],
      "source": []
    }
  ],
  "metadata": {
    "colab": {
      "provenance": []
    },
    "kernelspec": {
      "display_name": "Python 3",
      "name": "python3"
    },
    "language_info": {
      "codemirror_mode": {
        "name": "ipython",
        "version": 3
      },
      "file_extension": ".py",
      "mimetype": "text/x-python",
      "name": "python",
      "nbconvert_exporter": "python",
      "pygments_lexer": "ipython3",
      "version": "3.8.5"
    },
    "widgets": {
      "application/vnd.jupyter.widget-state+json": {
        "06233c7cd6e340869e13a66297bb5769": {
          "model_module": "@jupyter-widgets/controls",
          "model_module_version": "1.5.0",
          "model_name": "HTMLModel",
          "state": {
            "_dom_classes": [],
            "_model_module": "@jupyter-widgets/controls",
            "_model_module_version": "1.5.0",
            "_model_name": "HTMLModel",
            "_view_count": null,
            "_view_module": "@jupyter-widgets/controls",
            "_view_module_version": "1.5.0",
            "_view_name": "HTMLView",
            "description": "",
            "description_tooltip": null,
            "layout": "IPY_MODEL_b69acd8285684229aebac3875657fa15",
            "placeholder": "​",
            "style": "IPY_MODEL_ba3864f590654dc3a863b2fff564c879",
            "value": " 1.99k/1.99k [00:00&lt;00:00, 60.6kB/s]"
          }
        },
        "0a39196055d54ed987802074ab59e288": {
          "model_module": "@jupyter-widgets/controls",
          "model_module_version": "1.5.0",
          "model_name": "HTMLModel",
          "state": {
            "_dom_classes": [],
            "_model_module": "@jupyter-widgets/controls",
            "_model_module_version": "1.5.0",
            "_model_name": "HTMLModel",
            "_view_count": null,
            "_view_module": "@jupyter-widgets/controls",
            "_view_module_version": "1.5.0",
            "_view_name": "HTMLView",
            "description": "",
            "description_tooltip": null,
            "layout": "IPY_MODEL_9c6ea0e9c3a3498fb62a553d165bbb19",
            "placeholder": "​",
            "style": "IPY_MODEL_d513ac3a33834ab0a5632c8c3b59f0c1",
            "value": "Downloading (…)lve/main/config.json: 100%"
          }
        },
        "0a40713758224037ba29383b1cc968a4": {
          "model_module": "@jupyter-widgets/controls",
          "model_module_version": "1.5.0",
          "model_name": "ProgressStyleModel",
          "state": {
            "_model_module": "@jupyter-widgets/controls",
            "_model_module_version": "1.5.0",
            "_model_name": "ProgressStyleModel",
            "_view_count": null,
            "_view_module": "@jupyter-widgets/base",
            "_view_module_version": "1.2.0",
            "_view_name": "StyleView",
            "bar_color": null,
            "description_width": ""
          }
        },
        "0aa04ee626154662b7dcb53f2a55462c": {
          "model_module": "@jupyter-widgets/controls",
          "model_module_version": "1.5.0",
          "model_name": "ProgressStyleModel",
          "state": {
            "_model_module": "@jupyter-widgets/controls",
            "_model_module_version": "1.5.0",
            "_model_name": "ProgressStyleModel",
            "_view_count": null,
            "_view_module": "@jupyter-widgets/base",
            "_view_module_version": "1.2.0",
            "_view_name": "StyleView",
            "bar_color": null,
            "description_width": ""
          }
        },
        "0b48893ce6874300b8503003d0c721a8": {
          "model_module": "@jupyter-widgets/controls",
          "model_module_version": "1.5.0",
          "model_name": "DescriptionStyleModel",
          "state": {
            "_model_module": "@jupyter-widgets/controls",
            "_model_module_version": "1.5.0",
            "_model_name": "DescriptionStyleModel",
            "_view_count": null,
            "_view_module": "@jupyter-widgets/base",
            "_view_module_version": "1.2.0",
            "_view_name": "StyleView",
            "description_width": ""
          }
        },
        "0c15acd8387a4fbbac208dfea26fcf27": {
          "model_module": "@jupyter-widgets/controls",
          "model_module_version": "1.5.0",
          "model_name": "HTMLModel",
          "state": {
            "_dom_classes": [],
            "_model_module": "@jupyter-widgets/controls",
            "_model_module_version": "1.5.0",
            "_model_name": "HTMLModel",
            "_view_count": null,
            "_view_module": "@jupyter-widgets/controls",
            "_view_module_version": "1.5.0",
            "_view_name": "HTMLView",
            "description": "",
            "description_tooltip": null,
            "layout": "IPY_MODEL_b2e6bbb0424241e09e6a0dff7152b9c7",
            "placeholder": "​",
            "style": "IPY_MODEL_fe87582f415b40b8aa8c91f0cb9a264f",
            "value": " 1.41k/1.41k [00:00&lt;00:00, 19.1kB/s]"
          }
        },
        "0e5a17fb2f254e49918f1d2cbd91a75a": {
          "model_module": "@jupyter-widgets/controls",
          "model_module_version": "1.5.0",
          "model_name": "FloatProgressModel",
          "state": {
            "_dom_classes": [],
            "_model_module": "@jupyter-widgets/controls",
            "_model_module_version": "1.5.0",
            "_model_name": "FloatProgressModel",
            "_view_count": null,
            "_view_module": "@jupyter-widgets/controls",
            "_view_module_version": "1.5.0",
            "_view_name": "ProgressView",
            "bar_style": "success",
            "description": "",
            "description_tooltip": null,
            "layout": "IPY_MODEL_42e5d8c473bd4a6f8731fdef6bd99c50",
            "max": 1406,
            "min": 0,
            "orientation": "horizontal",
            "style": "IPY_MODEL_6f66d1cfb7f7468a912985caece14039",
            "value": 1406
          }
        },
        "11190a659f4248b9a82ba8a562cb4a6a": {
          "model_module": "@jupyter-widgets/controls",
          "model_module_version": "1.5.0",
          "model_name": "FloatProgressModel",
          "state": {
            "_dom_classes": [],
            "_model_module": "@jupyter-widgets/controls",
            "_model_module_version": "1.5.0",
            "_model_name": "FloatProgressModel",
            "_view_count": null,
            "_view_module": "@jupyter-widgets/controls",
            "_view_module_version": "1.5.0",
            "_view_name": "ProgressView",
            "bar_style": "success",
            "description": "",
            "description_tooltip": null,
            "layout": "IPY_MODEL_648c27457c084e5a86aa1006425f272f",
            "max": 1786,
            "min": 0,
            "orientation": "horizontal",
            "style": "IPY_MODEL_0aa04ee626154662b7dcb53f2a55462c",
            "value": 1786
          }
        },
        "11615778e4f7439d98e667f6789fd6ee": {
          "model_module": "@jupyter-widgets/base",
          "model_module_version": "1.2.0",
          "model_name": "LayoutModel",
          "state": {
            "_model_module": "@jupyter-widgets/base",
            "_model_module_version": "1.2.0",
            "_model_name": "LayoutModel",
            "_view_count": null,
            "_view_module": "@jupyter-widgets/base",
            "_view_module_version": "1.2.0",
            "_view_name": "LayoutView",
            "align_content": null,
            "align_items": null,
            "align_self": null,
            "border": null,
            "bottom": null,
            "display": null,
            "flex": null,
            "flex_flow": null,
            "grid_area": null,
            "grid_auto_columns": null,
            "grid_auto_flow": null,
            "grid_auto_rows": null,
            "grid_column": null,
            "grid_gap": null,
            "grid_row": null,
            "grid_template_areas": null,
            "grid_template_columns": null,
            "grid_template_rows": null,
            "height": null,
            "justify_content": null,
            "justify_items": null,
            "left": null,
            "margin": null,
            "max_height": null,
            "max_width": null,
            "min_height": null,
            "min_width": null,
            "object_fit": null,
            "object_position": null,
            "order": null,
            "overflow": null,
            "overflow_x": null,
            "overflow_y": null,
            "padding": null,
            "right": null,
            "top": null,
            "visibility": null,
            "width": null
          }
        },
        "11dd888aff114231afbd5ed84e46cbbb": {
          "model_module": "@jupyter-widgets/controls",
          "model_module_version": "1.5.0",
          "model_name": "HTMLModel",
          "state": {
            "_dom_classes": [],
            "_model_module": "@jupyter-widgets/controls",
            "_model_module_version": "1.5.0",
            "_model_name": "HTMLModel",
            "_view_count": null,
            "_view_module": "@jupyter-widgets/controls",
            "_view_module_version": "1.5.0",
            "_view_name": "HTMLView",
            "description": "",
            "description_tooltip": null,
            "layout": "IPY_MODEL_fe56fca296ce4987821bbc144a41535a",
            "placeholder": "​",
            "style": "IPY_MODEL_0b48893ce6874300b8503003d0c721a8",
            "value": "Downloading spiece.model: 100%"
          }
        },
        "184f40123e7c43cd97cfae007fd5bc0d": {
          "model_module": "@jupyter-widgets/controls",
          "model_module_version": "1.5.0",
          "model_name": "HBoxModel",
          "state": {
            "_dom_classes": [],
            "_model_module": "@jupyter-widgets/controls",
            "_model_module_version": "1.5.0",
            "_model_name": "HBoxModel",
            "_view_count": null,
            "_view_module": "@jupyter-widgets/controls",
            "_view_module_version": "1.5.0",
            "_view_name": "HBoxView",
            "box_style": "",
            "children": [
              "IPY_MODEL_bef028d4b7194298971de7d6b6a5d536",
              "IPY_MODEL_7a390f810d684e5088762025132b26ef",
              "IPY_MODEL_4f2c882910444c708bd41bca2665bc7e"
            ],
            "layout": "IPY_MODEL_687f3535554341f3a92c8a8e19220dd8"
          }
        },
        "18ccbd4c7c854c6face8eeeaf4236ef7": {
          "model_module": "@jupyter-widgets/controls",
          "model_module_version": "1.5.0",
          "model_name": "DescriptionStyleModel",
          "state": {
            "_model_module": "@jupyter-widgets/controls",
            "_model_module_version": "1.5.0",
            "_model_name": "DescriptionStyleModel",
            "_view_count": null,
            "_view_module": "@jupyter-widgets/base",
            "_view_module_version": "1.2.0",
            "_view_name": "StyleView",
            "description_width": ""
          }
        },
        "26eb5dd42914450ab6128aabe4746dee": {
          "model_module": "@jupyter-widgets/controls",
          "model_module_version": "1.5.0",
          "model_name": "HBoxModel",
          "state": {
            "_dom_classes": [],
            "_model_module": "@jupyter-widgets/controls",
            "_model_module_version": "1.5.0",
            "_model_name": "HBoxModel",
            "_view_count": null,
            "_view_module": "@jupyter-widgets/controls",
            "_view_module_version": "1.5.0",
            "_view_name": "HBoxView",
            "box_style": "",
            "children": [
              "IPY_MODEL_afb5d9e845eb4a52b7babd182b5d1e5f",
              "IPY_MODEL_b80ce3ce2f2f4333bcff71cf4dfc5001",
              "IPY_MODEL_06233c7cd6e340869e13a66297bb5769"
            ],
            "layout": "IPY_MODEL_11615778e4f7439d98e667f6789fd6ee"
          }
        },
        "280fb0bbb44141a888eb7bddd433aa0e": {
          "model_module": "@jupyter-widgets/controls",
          "model_module_version": "1.5.0",
          "model_name": "FloatProgressModel",
          "state": {
            "_dom_classes": [],
            "_model_module": "@jupyter-widgets/controls",
            "_model_module_version": "1.5.0",
            "_model_name": "FloatProgressModel",
            "_view_count": null,
            "_view_module": "@jupyter-widgets/controls",
            "_view_module_version": "1.5.0",
            "_view_name": "ProgressView",
            "bar_style": "success",
            "description": "",
            "description_tooltip": null,
            "layout": "IPY_MODEL_d22a07f6a589415fac48587ccd29bbb9",
            "max": 791656,
            "min": 0,
            "orientation": "horizontal",
            "style": "IPY_MODEL_0a40713758224037ba29383b1cc968a4",
            "value": 791656
          }
        },
        "2f413969f9ef4f98a52f63b2241516ef": {
          "model_module": "@jupyter-widgets/controls",
          "model_module_version": "1.5.0",
          "model_name": "DescriptionStyleModel",
          "state": {
            "_model_module": "@jupyter-widgets/controls",
            "_model_module_version": "1.5.0",
            "_model_name": "DescriptionStyleModel",
            "_view_count": null,
            "_view_module": "@jupyter-widgets/base",
            "_view_module_version": "1.2.0",
            "_view_name": "StyleView",
            "description_width": ""
          }
        },
        "30d7c662a5604534b6ae1f30ec46e9b2": {
          "model_module": "@jupyter-widgets/base",
          "model_module_version": "1.2.0",
          "model_name": "LayoutModel",
          "state": {
            "_model_module": "@jupyter-widgets/base",
            "_model_module_version": "1.2.0",
            "_model_name": "LayoutModel",
            "_view_count": null,
            "_view_module": "@jupyter-widgets/base",
            "_view_module_version": "1.2.0",
            "_view_name": "LayoutView",
            "align_content": null,
            "align_items": null,
            "align_self": null,
            "border": null,
            "bottom": null,
            "display": null,
            "flex": null,
            "flex_flow": null,
            "grid_area": null,
            "grid_auto_columns": null,
            "grid_auto_flow": null,
            "grid_auto_rows": null,
            "grid_column": null,
            "grid_gap": null,
            "grid_row": null,
            "grid_template_areas": null,
            "grid_template_columns": null,
            "grid_template_rows": null,
            "height": null,
            "justify_content": null,
            "justify_items": null,
            "left": null,
            "margin": null,
            "max_height": null,
            "max_width": null,
            "min_height": null,
            "min_width": null,
            "object_fit": null,
            "object_position": null,
            "order": null,
            "overflow": null,
            "overflow_x": null,
            "overflow_y": null,
            "padding": null,
            "right": null,
            "top": null,
            "visibility": null,
            "width": null
          }
        },
        "41b42c1c92d440889b6920c7b8aa20f7": {
          "model_module": "@jupyter-widgets/controls",
          "model_module_version": "1.5.0",
          "model_name": "HTMLModel",
          "state": {
            "_dom_classes": [],
            "_model_module": "@jupyter-widgets/controls",
            "_model_module_version": "1.5.0",
            "_model_name": "HTMLModel",
            "_view_count": null,
            "_view_module": "@jupyter-widgets/controls",
            "_view_module_version": "1.5.0",
            "_view_name": "HTMLView",
            "description": "",
            "description_tooltip": null,
            "layout": "IPY_MODEL_b4dacba8ff2b4677ab9eddb1c880d8c5",
            "placeholder": "​",
            "style": "IPY_MODEL_18ccbd4c7c854c6face8eeeaf4236ef7",
            "value": " 1.79k/1.79k [00:00&lt;00:00, 49.9kB/s]"
          }
        },
        "42e5d8c473bd4a6f8731fdef6bd99c50": {
          "model_module": "@jupyter-widgets/base",
          "model_module_version": "1.2.0",
          "model_name": "LayoutModel",
          "state": {
            "_model_module": "@jupyter-widgets/base",
            "_model_module_version": "1.2.0",
            "_model_name": "LayoutModel",
            "_view_count": null,
            "_view_module": "@jupyter-widgets/base",
            "_view_module_version": "1.2.0",
            "_view_name": "LayoutView",
            "align_content": null,
            "align_items": null,
            "align_self": null,
            "border": null,
            "bottom": null,
            "display": null,
            "flex": null,
            "flex_flow": null,
            "grid_area": null,
            "grid_auto_columns": null,
            "grid_auto_flow": null,
            "grid_auto_rows": null,
            "grid_column": null,
            "grid_gap": null,
            "grid_row": null,
            "grid_template_areas": null,
            "grid_template_columns": null,
            "grid_template_rows": null,
            "height": null,
            "justify_content": null,
            "justify_items": null,
            "left": null,
            "margin": null,
            "max_height": null,
            "max_width": null,
            "min_height": null,
            "min_width": null,
            "object_fit": null,
            "object_position": null,
            "order": null,
            "overflow": null,
            "overflow_x": null,
            "overflow_y": null,
            "padding": null,
            "right": null,
            "top": null,
            "visibility": null,
            "width": null
          }
        },
        "4e26662597fc429893a7b864a7d118a4": {
          "model_module": "@jupyter-widgets/base",
          "model_module_version": "1.2.0",
          "model_name": "LayoutModel",
          "state": {
            "_model_module": "@jupyter-widgets/base",
            "_model_module_version": "1.2.0",
            "_model_name": "LayoutModel",
            "_view_count": null,
            "_view_module": "@jupyter-widgets/base",
            "_view_module_version": "1.2.0",
            "_view_name": "LayoutView",
            "align_content": null,
            "align_items": null,
            "align_self": null,
            "border": null,
            "bottom": null,
            "display": null,
            "flex": null,
            "flex_flow": null,
            "grid_area": null,
            "grid_auto_columns": null,
            "grid_auto_flow": null,
            "grid_auto_rows": null,
            "grid_column": null,
            "grid_gap": null,
            "grid_row": null,
            "grid_template_areas": null,
            "grid_template_columns": null,
            "grid_template_rows": null,
            "height": null,
            "justify_content": null,
            "justify_items": null,
            "left": null,
            "margin": null,
            "max_height": null,
            "max_width": null,
            "min_height": null,
            "min_width": null,
            "object_fit": null,
            "object_position": null,
            "order": null,
            "overflow": null,
            "overflow_x": null,
            "overflow_y": null,
            "padding": null,
            "right": null,
            "top": null,
            "visibility": null,
            "width": null
          }
        },
        "4f2c882910444c708bd41bca2665bc7e": {
          "model_module": "@jupyter-widgets/controls",
          "model_module_version": "1.5.0",
          "model_name": "HTMLModel",
          "state": {
            "_dom_classes": [],
            "_model_module": "@jupyter-widgets/controls",
            "_model_module_version": "1.5.0",
            "_model_name": "HTMLModel",
            "_view_count": null,
            "_view_module": "@jupyter-widgets/controls",
            "_view_module_version": "1.5.0",
            "_view_name": "HTMLView",
            "description": "",
            "description_tooltip": null,
            "layout": "IPY_MODEL_4e26662597fc429893a7b864a7d118a4",
            "placeholder": "​",
            "style": "IPY_MODEL_f1b63aa712924993a9a4ec9a4b1d8103",
            "value": " 892M/892M [00:28&lt;00:00, 28.5MB/s]"
          }
        },
        "546afe89016e499b80bac06c7300b5a3": {
          "model_module": "@jupyter-widgets/base",
          "model_module_version": "1.2.0",
          "model_name": "LayoutModel",
          "state": {
            "_model_module": "@jupyter-widgets/base",
            "_model_module_version": "1.2.0",
            "_model_name": "LayoutModel",
            "_view_count": null,
            "_view_module": "@jupyter-widgets/base",
            "_view_module_version": "1.2.0",
            "_view_name": "LayoutView",
            "align_content": null,
            "align_items": null,
            "align_self": null,
            "border": null,
            "bottom": null,
            "display": null,
            "flex": null,
            "flex_flow": null,
            "grid_area": null,
            "grid_auto_columns": null,
            "grid_auto_flow": null,
            "grid_auto_rows": null,
            "grid_column": null,
            "grid_gap": null,
            "grid_row": null,
            "grid_template_areas": null,
            "grid_template_columns": null,
            "grid_template_rows": null,
            "height": null,
            "justify_content": null,
            "justify_items": null,
            "left": null,
            "margin": null,
            "max_height": null,
            "max_width": null,
            "min_height": null,
            "min_width": null,
            "object_fit": null,
            "object_position": null,
            "order": null,
            "overflow": null,
            "overflow_x": null,
            "overflow_y": null,
            "padding": null,
            "right": null,
            "top": null,
            "visibility": null,
            "width": null
          }
        },
        "553ba9ba2bea41b5984572c86fc9a57d": {
          "model_module": "@jupyter-widgets/base",
          "model_module_version": "1.2.0",
          "model_name": "LayoutModel",
          "state": {
            "_model_module": "@jupyter-widgets/base",
            "_model_module_version": "1.2.0",
            "_model_name": "LayoutModel",
            "_view_count": null,
            "_view_module": "@jupyter-widgets/base",
            "_view_module_version": "1.2.0",
            "_view_name": "LayoutView",
            "align_content": null,
            "align_items": null,
            "align_self": null,
            "border": null,
            "bottom": null,
            "display": null,
            "flex": null,
            "flex_flow": null,
            "grid_area": null,
            "grid_auto_columns": null,
            "grid_auto_flow": null,
            "grid_auto_rows": null,
            "grid_column": null,
            "grid_gap": null,
            "grid_row": null,
            "grid_template_areas": null,
            "grid_template_columns": null,
            "grid_template_rows": null,
            "height": null,
            "justify_content": null,
            "justify_items": null,
            "left": null,
            "margin": null,
            "max_height": null,
            "max_width": null,
            "min_height": null,
            "min_width": null,
            "object_fit": null,
            "object_position": null,
            "order": null,
            "overflow": null,
            "overflow_x": null,
            "overflow_y": null,
            "padding": null,
            "right": null,
            "top": null,
            "visibility": null,
            "width": null
          }
        },
        "557b1d65ebf84880b87aebc244047933": {
          "model_module": "@jupyter-widgets/controls",
          "model_module_version": "1.5.0",
          "model_name": "HBoxModel",
          "state": {
            "_dom_classes": [],
            "_model_module": "@jupyter-widgets/controls",
            "_model_module_version": "1.5.0",
            "_model_name": "HBoxModel",
            "_view_count": null,
            "_view_module": "@jupyter-widgets/controls",
            "_view_module_version": "1.5.0",
            "_view_name": "HBoxView",
            "box_style": "",
            "children": [
              "IPY_MODEL_8a762c854e9249eca4003cc5b706d6fa",
              "IPY_MODEL_11190a659f4248b9a82ba8a562cb4a6a",
              "IPY_MODEL_41b42c1c92d440889b6920c7b8aa20f7"
            ],
            "layout": "IPY_MODEL_80c2c1b6e0974efa94eab76b98796126"
          }
        },
        "57f641ac5fef43a4838db3ca4d4986c5": {
          "model_module": "@jupyter-widgets/controls",
          "model_module_version": "1.5.0",
          "model_name": "HTMLModel",
          "state": {
            "_dom_classes": [],
            "_model_module": "@jupyter-widgets/controls",
            "_model_module_version": "1.5.0",
            "_model_name": "HTMLModel",
            "_view_count": null,
            "_view_module": "@jupyter-widgets/controls",
            "_view_module_version": "1.5.0",
            "_view_name": "HTMLView",
            "description": "",
            "description_tooltip": null,
            "layout": "IPY_MODEL_30d7c662a5604534b6ae1f30ec46e9b2",
            "placeholder": "​",
            "style": "IPY_MODEL_a29993282d2b476a972d476bc848d7d9",
            "value": " 792k/792k [00:00&lt;00:00, 3.50MB/s]"
          }
        },
        "5db07c76f5af4d089179b1a0d1bf9f4f": {
          "model_module": "@jupyter-widgets/controls",
          "model_module_version": "1.5.0",
          "model_name": "HBoxModel",
          "state": {
            "_dom_classes": [],
            "_model_module": "@jupyter-widgets/controls",
            "_model_module_version": "1.5.0",
            "_model_name": "HBoxModel",
            "_view_count": null,
            "_view_module": "@jupyter-widgets/controls",
            "_view_module_version": "1.5.0",
            "_view_name": "HBoxView",
            "box_style": "",
            "children": [
              "IPY_MODEL_11dd888aff114231afbd5ed84e46cbbb",
              "IPY_MODEL_280fb0bbb44141a888eb7bddd433aa0e",
              "IPY_MODEL_57f641ac5fef43a4838db3ca4d4986c5"
            ],
            "layout": "IPY_MODEL_624498f61c0346dbba24690203ad984d"
          }
        },
        "5ed71ea358a34bff9ca30b75c4fdd404": {
          "model_module": "@jupyter-widgets/controls",
          "model_module_version": "1.5.0",
          "model_name": "ProgressStyleModel",
          "state": {
            "_model_module": "@jupyter-widgets/controls",
            "_model_module_version": "1.5.0",
            "_model_name": "ProgressStyleModel",
            "_view_count": null,
            "_view_module": "@jupyter-widgets/base",
            "_view_module_version": "1.2.0",
            "_view_name": "StyleView",
            "bar_color": null,
            "description_width": ""
          }
        },
        "624498f61c0346dbba24690203ad984d": {
          "model_module": "@jupyter-widgets/base",
          "model_module_version": "1.2.0",
          "model_name": "LayoutModel",
          "state": {
            "_model_module": "@jupyter-widgets/base",
            "_model_module_version": "1.2.0",
            "_model_name": "LayoutModel",
            "_view_count": null,
            "_view_module": "@jupyter-widgets/base",
            "_view_module_version": "1.2.0",
            "_view_name": "LayoutView",
            "align_content": null,
            "align_items": null,
            "align_self": null,
            "border": null,
            "bottom": null,
            "display": null,
            "flex": null,
            "flex_flow": null,
            "grid_area": null,
            "grid_auto_columns": null,
            "grid_auto_flow": null,
            "grid_auto_rows": null,
            "grid_column": null,
            "grid_gap": null,
            "grid_row": null,
            "grid_template_areas": null,
            "grid_template_columns": null,
            "grid_template_rows": null,
            "height": null,
            "justify_content": null,
            "justify_items": null,
            "left": null,
            "margin": null,
            "max_height": null,
            "max_width": null,
            "min_height": null,
            "min_width": null,
            "object_fit": null,
            "object_position": null,
            "order": null,
            "overflow": null,
            "overflow_x": null,
            "overflow_y": null,
            "padding": null,
            "right": null,
            "top": null,
            "visibility": null,
            "width": null
          }
        },
        "6419821c782d48b79a77825f75672c7f": {
          "model_module": "@jupyter-widgets/controls",
          "model_module_version": "1.5.0",
          "model_name": "HBoxModel",
          "state": {
            "_dom_classes": [],
            "_model_module": "@jupyter-widgets/controls",
            "_model_module_version": "1.5.0",
            "_model_name": "HBoxModel",
            "_view_count": null,
            "_view_module": "@jupyter-widgets/controls",
            "_view_module_version": "1.5.0",
            "_view_name": "HBoxView",
            "box_style": "",
            "children": [
              "IPY_MODEL_0a39196055d54ed987802074ab59e288",
              "IPY_MODEL_0e5a17fb2f254e49918f1d2cbd91a75a",
              "IPY_MODEL_0c15acd8387a4fbbac208dfea26fcf27"
            ],
            "layout": "IPY_MODEL_8d38c35a3b2e4319b7a346bf4b9d36e3"
          }
        },
        "648c27457c084e5a86aa1006425f272f": {
          "model_module": "@jupyter-widgets/base",
          "model_module_version": "1.2.0",
          "model_name": "LayoutModel",
          "state": {
            "_model_module": "@jupyter-widgets/base",
            "_model_module_version": "1.2.0",
            "_model_name": "LayoutModel",
            "_view_count": null,
            "_view_module": "@jupyter-widgets/base",
            "_view_module_version": "1.2.0",
            "_view_name": "LayoutView",
            "align_content": null,
            "align_items": null,
            "align_self": null,
            "border": null,
            "bottom": null,
            "display": null,
            "flex": null,
            "flex_flow": null,
            "grid_area": null,
            "grid_auto_columns": null,
            "grid_auto_flow": null,
            "grid_auto_rows": null,
            "grid_column": null,
            "grid_gap": null,
            "grid_row": null,
            "grid_template_areas": null,
            "grid_template_columns": null,
            "grid_template_rows": null,
            "height": null,
            "justify_content": null,
            "justify_items": null,
            "left": null,
            "margin": null,
            "max_height": null,
            "max_width": null,
            "min_height": null,
            "min_width": null,
            "object_fit": null,
            "object_position": null,
            "order": null,
            "overflow": null,
            "overflow_x": null,
            "overflow_y": null,
            "padding": null,
            "right": null,
            "top": null,
            "visibility": null,
            "width": null
          }
        },
        "687f3535554341f3a92c8a8e19220dd8": {
          "model_module": "@jupyter-widgets/base",
          "model_module_version": "1.2.0",
          "model_name": "LayoutModel",
          "state": {
            "_model_module": "@jupyter-widgets/base",
            "_model_module_version": "1.2.0",
            "_model_name": "LayoutModel",
            "_view_count": null,
            "_view_module": "@jupyter-widgets/base",
            "_view_module_version": "1.2.0",
            "_view_name": "LayoutView",
            "align_content": null,
            "align_items": null,
            "align_self": null,
            "border": null,
            "bottom": null,
            "display": null,
            "flex": null,
            "flex_flow": null,
            "grid_area": null,
            "grid_auto_columns": null,
            "grid_auto_flow": null,
            "grid_auto_rows": null,
            "grid_column": null,
            "grid_gap": null,
            "grid_row": null,
            "grid_template_areas": null,
            "grid_template_columns": null,
            "grid_template_rows": null,
            "height": null,
            "justify_content": null,
            "justify_items": null,
            "left": null,
            "margin": null,
            "max_height": null,
            "max_width": null,
            "min_height": null,
            "min_width": null,
            "object_fit": null,
            "object_position": null,
            "order": null,
            "overflow": null,
            "overflow_x": null,
            "overflow_y": null,
            "padding": null,
            "right": null,
            "top": null,
            "visibility": null,
            "width": null
          }
        },
        "6f66d1cfb7f7468a912985caece14039": {
          "model_module": "@jupyter-widgets/controls",
          "model_module_version": "1.5.0",
          "model_name": "ProgressStyleModel",
          "state": {
            "_model_module": "@jupyter-widgets/controls",
            "_model_module_version": "1.5.0",
            "_model_name": "ProgressStyleModel",
            "_view_count": null,
            "_view_module": "@jupyter-widgets/base",
            "_view_module_version": "1.2.0",
            "_view_name": "StyleView",
            "bar_color": null,
            "description_width": ""
          }
        },
        "7a390f810d684e5088762025132b26ef": {
          "model_module": "@jupyter-widgets/controls",
          "model_module_version": "1.5.0",
          "model_name": "FloatProgressModel",
          "state": {
            "_dom_classes": [],
            "_model_module": "@jupyter-widgets/controls",
            "_model_module_version": "1.5.0",
            "_model_name": "FloatProgressModel",
            "_view_count": null,
            "_view_module": "@jupyter-widgets/controls",
            "_view_module_version": "1.5.0",
            "_view_name": "ProgressView",
            "bar_style": "success",
            "description": "",
            "description_tooltip": null,
            "layout": "IPY_MODEL_553ba9ba2bea41b5984572c86fc9a57d",
            "max": 891730879,
            "min": 0,
            "orientation": "horizontal",
            "style": "IPY_MODEL_e6e08772161a48219a706b262cf7d3be",
            "value": 891730879
          }
        },
        "80c2c1b6e0974efa94eab76b98796126": {
          "model_module": "@jupyter-widgets/base",
          "model_module_version": "1.2.0",
          "model_name": "LayoutModel",
          "state": {
            "_model_module": "@jupyter-widgets/base",
            "_model_module_version": "1.2.0",
            "_model_name": "LayoutModel",
            "_view_count": null,
            "_view_module": "@jupyter-widgets/base",
            "_view_module_version": "1.2.0",
            "_view_name": "LayoutView",
            "align_content": null,
            "align_items": null,
            "align_self": null,
            "border": null,
            "bottom": null,
            "display": null,
            "flex": null,
            "flex_flow": null,
            "grid_area": null,
            "grid_auto_columns": null,
            "grid_auto_flow": null,
            "grid_auto_rows": null,
            "grid_column": null,
            "grid_gap": null,
            "grid_row": null,
            "grid_template_areas": null,
            "grid_template_columns": null,
            "grid_template_rows": null,
            "height": null,
            "justify_content": null,
            "justify_items": null,
            "left": null,
            "margin": null,
            "max_height": null,
            "max_width": null,
            "min_height": null,
            "min_width": null,
            "object_fit": null,
            "object_position": null,
            "order": null,
            "overflow": null,
            "overflow_x": null,
            "overflow_y": null,
            "padding": null,
            "right": null,
            "top": null,
            "visibility": null,
            "width": null
          }
        },
        "8158e31b61464a699f0e089bce816b04": {
          "model_module": "@jupyter-widgets/base",
          "model_module_version": "1.2.0",
          "model_name": "LayoutModel",
          "state": {
            "_model_module": "@jupyter-widgets/base",
            "_model_module_version": "1.2.0",
            "_model_name": "LayoutModel",
            "_view_count": null,
            "_view_module": "@jupyter-widgets/base",
            "_view_module_version": "1.2.0",
            "_view_name": "LayoutView",
            "align_content": null,
            "align_items": null,
            "align_self": null,
            "border": null,
            "bottom": null,
            "display": null,
            "flex": null,
            "flex_flow": null,
            "grid_area": null,
            "grid_auto_columns": null,
            "grid_auto_flow": null,
            "grid_auto_rows": null,
            "grid_column": null,
            "grid_gap": null,
            "grid_row": null,
            "grid_template_areas": null,
            "grid_template_columns": null,
            "grid_template_rows": null,
            "height": null,
            "justify_content": null,
            "justify_items": null,
            "left": null,
            "margin": null,
            "max_height": null,
            "max_width": null,
            "min_height": null,
            "min_width": null,
            "object_fit": null,
            "object_position": null,
            "order": null,
            "overflow": null,
            "overflow_x": null,
            "overflow_y": null,
            "padding": null,
            "right": null,
            "top": null,
            "visibility": null,
            "width": null
          }
        },
        "8a762c854e9249eca4003cc5b706d6fa": {
          "model_module": "@jupyter-widgets/controls",
          "model_module_version": "1.5.0",
          "model_name": "HTMLModel",
          "state": {
            "_dom_classes": [],
            "_model_module": "@jupyter-widgets/controls",
            "_model_module_version": "1.5.0",
            "_model_name": "HTMLModel",
            "_view_count": null,
            "_view_module": "@jupyter-widgets/controls",
            "_view_module_version": "1.5.0",
            "_view_name": "HTMLView",
            "description": "",
            "description_tooltip": null,
            "layout": "IPY_MODEL_546afe89016e499b80bac06c7300b5a3",
            "placeholder": "​",
            "style": "IPY_MODEL_2f413969f9ef4f98a52f63b2241516ef",
            "value": "Downloading (…)cial_tokens_map.json: 100%"
          }
        },
        "8d38c35a3b2e4319b7a346bf4b9d36e3": {
          "model_module": "@jupyter-widgets/base",
          "model_module_version": "1.2.0",
          "model_name": "LayoutModel",
          "state": {
            "_model_module": "@jupyter-widgets/base",
            "_model_module_version": "1.2.0",
            "_model_name": "LayoutModel",
            "_view_count": null,
            "_view_module": "@jupyter-widgets/base",
            "_view_module_version": "1.2.0",
            "_view_name": "LayoutView",
            "align_content": null,
            "align_items": null,
            "align_self": null,
            "border": null,
            "bottom": null,
            "display": null,
            "flex": null,
            "flex_flow": null,
            "grid_area": null,
            "grid_auto_columns": null,
            "grid_auto_flow": null,
            "grid_auto_rows": null,
            "grid_column": null,
            "grid_gap": null,
            "grid_row": null,
            "grid_template_areas": null,
            "grid_template_columns": null,
            "grid_template_rows": null,
            "height": null,
            "justify_content": null,
            "justify_items": null,
            "left": null,
            "margin": null,
            "max_height": null,
            "max_width": null,
            "min_height": null,
            "min_width": null,
            "object_fit": null,
            "object_position": null,
            "order": null,
            "overflow": null,
            "overflow_x": null,
            "overflow_y": null,
            "padding": null,
            "right": null,
            "top": null,
            "visibility": null,
            "width": null
          }
        },
        "9c6ea0e9c3a3498fb62a553d165bbb19": {
          "model_module": "@jupyter-widgets/base",
          "model_module_version": "1.2.0",
          "model_name": "LayoutModel",
          "state": {
            "_model_module": "@jupyter-widgets/base",
            "_model_module_version": "1.2.0",
            "_model_name": "LayoutModel",
            "_view_count": null,
            "_view_module": "@jupyter-widgets/base",
            "_view_module_version": "1.2.0",
            "_view_name": "LayoutView",
            "align_content": null,
            "align_items": null,
            "align_self": null,
            "border": null,
            "bottom": null,
            "display": null,
            "flex": null,
            "flex_flow": null,
            "grid_area": null,
            "grid_auto_columns": null,
            "grid_auto_flow": null,
            "grid_auto_rows": null,
            "grid_column": null,
            "grid_gap": null,
            "grid_row": null,
            "grid_template_areas": null,
            "grid_template_columns": null,
            "grid_template_rows": null,
            "height": null,
            "justify_content": null,
            "justify_items": null,
            "left": null,
            "margin": null,
            "max_height": null,
            "max_width": null,
            "min_height": null,
            "min_width": null,
            "object_fit": null,
            "object_position": null,
            "order": null,
            "overflow": null,
            "overflow_x": null,
            "overflow_y": null,
            "padding": null,
            "right": null,
            "top": null,
            "visibility": null,
            "width": null
          }
        },
        "a29993282d2b476a972d476bc848d7d9": {
          "model_module": "@jupyter-widgets/controls",
          "model_module_version": "1.5.0",
          "model_name": "DescriptionStyleModel",
          "state": {
            "_model_module": "@jupyter-widgets/controls",
            "_model_module_version": "1.5.0",
            "_model_name": "DescriptionStyleModel",
            "_view_count": null,
            "_view_module": "@jupyter-widgets/base",
            "_view_module_version": "1.2.0",
            "_view_name": "StyleView",
            "description_width": ""
          }
        },
        "afb5d9e845eb4a52b7babd182b5d1e5f": {
          "model_module": "@jupyter-widgets/controls",
          "model_module_version": "1.5.0",
          "model_name": "HTMLModel",
          "state": {
            "_dom_classes": [],
            "_model_module": "@jupyter-widgets/controls",
            "_model_module_version": "1.5.0",
            "_model_name": "HTMLModel",
            "_view_count": null,
            "_view_module": "@jupyter-widgets/controls",
            "_view_module_version": "1.5.0",
            "_view_name": "HTMLView",
            "description": "",
            "description_tooltip": null,
            "layout": "IPY_MODEL_c2c7881760f647ba9a97915e93e7ce5f",
            "placeholder": "​",
            "style": "IPY_MODEL_e9085af195ac4452bff7ec786ab962fa",
            "value": "Downloading (…)okenizer_config.json: 100%"
          }
        },
        "b2e6bbb0424241e09e6a0dff7152b9c7": {
          "model_module": "@jupyter-widgets/base",
          "model_module_version": "1.2.0",
          "model_name": "LayoutModel",
          "state": {
            "_model_module": "@jupyter-widgets/base",
            "_model_module_version": "1.2.0",
            "_model_name": "LayoutModel",
            "_view_count": null,
            "_view_module": "@jupyter-widgets/base",
            "_view_module_version": "1.2.0",
            "_view_name": "LayoutView",
            "align_content": null,
            "align_items": null,
            "align_self": null,
            "border": null,
            "bottom": null,
            "display": null,
            "flex": null,
            "flex_flow": null,
            "grid_area": null,
            "grid_auto_columns": null,
            "grid_auto_flow": null,
            "grid_auto_rows": null,
            "grid_column": null,
            "grid_gap": null,
            "grid_row": null,
            "grid_template_areas": null,
            "grid_template_columns": null,
            "grid_template_rows": null,
            "height": null,
            "justify_content": null,
            "justify_items": null,
            "left": null,
            "margin": null,
            "max_height": null,
            "max_width": null,
            "min_height": null,
            "min_width": null,
            "object_fit": null,
            "object_position": null,
            "order": null,
            "overflow": null,
            "overflow_x": null,
            "overflow_y": null,
            "padding": null,
            "right": null,
            "top": null,
            "visibility": null,
            "width": null
          }
        },
        "b4dacba8ff2b4677ab9eddb1c880d8c5": {
          "model_module": "@jupyter-widgets/base",
          "model_module_version": "1.2.0",
          "model_name": "LayoutModel",
          "state": {
            "_model_module": "@jupyter-widgets/base",
            "_model_module_version": "1.2.0",
            "_model_name": "LayoutModel",
            "_view_count": null,
            "_view_module": "@jupyter-widgets/base",
            "_view_module_version": "1.2.0",
            "_view_name": "LayoutView",
            "align_content": null,
            "align_items": null,
            "align_self": null,
            "border": null,
            "bottom": null,
            "display": null,
            "flex": null,
            "flex_flow": null,
            "grid_area": null,
            "grid_auto_columns": null,
            "grid_auto_flow": null,
            "grid_auto_rows": null,
            "grid_column": null,
            "grid_gap": null,
            "grid_row": null,
            "grid_template_areas": null,
            "grid_template_columns": null,
            "grid_template_rows": null,
            "height": null,
            "justify_content": null,
            "justify_items": null,
            "left": null,
            "margin": null,
            "max_height": null,
            "max_width": null,
            "min_height": null,
            "min_width": null,
            "object_fit": null,
            "object_position": null,
            "order": null,
            "overflow": null,
            "overflow_x": null,
            "overflow_y": null,
            "padding": null,
            "right": null,
            "top": null,
            "visibility": null,
            "width": null
          }
        },
        "b69acd8285684229aebac3875657fa15": {
          "model_module": "@jupyter-widgets/base",
          "model_module_version": "1.2.0",
          "model_name": "LayoutModel",
          "state": {
            "_model_module": "@jupyter-widgets/base",
            "_model_module_version": "1.2.0",
            "_model_name": "LayoutModel",
            "_view_count": null,
            "_view_module": "@jupyter-widgets/base",
            "_view_module_version": "1.2.0",
            "_view_name": "LayoutView",
            "align_content": null,
            "align_items": null,
            "align_self": null,
            "border": null,
            "bottom": null,
            "display": null,
            "flex": null,
            "flex_flow": null,
            "grid_area": null,
            "grid_auto_columns": null,
            "grid_auto_flow": null,
            "grid_auto_rows": null,
            "grid_column": null,
            "grid_gap": null,
            "grid_row": null,
            "grid_template_areas": null,
            "grid_template_columns": null,
            "grid_template_rows": null,
            "height": null,
            "justify_content": null,
            "justify_items": null,
            "left": null,
            "margin": null,
            "max_height": null,
            "max_width": null,
            "min_height": null,
            "min_width": null,
            "object_fit": null,
            "object_position": null,
            "order": null,
            "overflow": null,
            "overflow_x": null,
            "overflow_y": null,
            "padding": null,
            "right": null,
            "top": null,
            "visibility": null,
            "width": null
          }
        },
        "b80ce3ce2f2f4333bcff71cf4dfc5001": {
          "model_module": "@jupyter-widgets/controls",
          "model_module_version": "1.5.0",
          "model_name": "FloatProgressModel",
          "state": {
            "_dom_classes": [],
            "_model_module": "@jupyter-widgets/controls",
            "_model_module_version": "1.5.0",
            "_model_name": "FloatProgressModel",
            "_view_count": null,
            "_view_module": "@jupyter-widgets/controls",
            "_view_module_version": "1.5.0",
            "_view_name": "ProgressView",
            "bar_style": "success",
            "description": "",
            "description_tooltip": null,
            "layout": "IPY_MODEL_8158e31b61464a699f0e089bce816b04",
            "max": 1987,
            "min": 0,
            "orientation": "horizontal",
            "style": "IPY_MODEL_5ed71ea358a34bff9ca30b75c4fdd404",
            "value": 1987
          }
        },
        "ba3864f590654dc3a863b2fff564c879": {
          "model_module": "@jupyter-widgets/controls",
          "model_module_version": "1.5.0",
          "model_name": "DescriptionStyleModel",
          "state": {
            "_model_module": "@jupyter-widgets/controls",
            "_model_module_version": "1.5.0",
            "_model_name": "DescriptionStyleModel",
            "_view_count": null,
            "_view_module": "@jupyter-widgets/base",
            "_view_module_version": "1.2.0",
            "_view_name": "StyleView",
            "description_width": ""
          }
        },
        "bab4b523c5654b88bff5ab65fc98ad02": {
          "model_module": "@jupyter-widgets/base",
          "model_module_version": "1.2.0",
          "model_name": "LayoutModel",
          "state": {
            "_model_module": "@jupyter-widgets/base",
            "_model_module_version": "1.2.0",
            "_model_name": "LayoutModel",
            "_view_count": null,
            "_view_module": "@jupyter-widgets/base",
            "_view_module_version": "1.2.0",
            "_view_name": "LayoutView",
            "align_content": null,
            "align_items": null,
            "align_self": null,
            "border": null,
            "bottom": null,
            "display": null,
            "flex": null,
            "flex_flow": null,
            "grid_area": null,
            "grid_auto_columns": null,
            "grid_auto_flow": null,
            "grid_auto_rows": null,
            "grid_column": null,
            "grid_gap": null,
            "grid_row": null,
            "grid_template_areas": null,
            "grid_template_columns": null,
            "grid_template_rows": null,
            "height": null,
            "justify_content": null,
            "justify_items": null,
            "left": null,
            "margin": null,
            "max_height": null,
            "max_width": null,
            "min_height": null,
            "min_width": null,
            "object_fit": null,
            "object_position": null,
            "order": null,
            "overflow": null,
            "overflow_x": null,
            "overflow_y": null,
            "padding": null,
            "right": null,
            "top": null,
            "visibility": null,
            "width": null
          }
        },
        "bef028d4b7194298971de7d6b6a5d536": {
          "model_module": "@jupyter-widgets/controls",
          "model_module_version": "1.5.0",
          "model_name": "HTMLModel",
          "state": {
            "_dom_classes": [],
            "_model_module": "@jupyter-widgets/controls",
            "_model_module_version": "1.5.0",
            "_model_name": "HTMLModel",
            "_view_count": null,
            "_view_module": "@jupyter-widgets/controls",
            "_view_module_version": "1.5.0",
            "_view_name": "HTMLView",
            "description": "",
            "description_tooltip": null,
            "layout": "IPY_MODEL_bab4b523c5654b88bff5ab65fc98ad02",
            "placeholder": "​",
            "style": "IPY_MODEL_d1d79e7e216d42adb86e5c1e16bf1323",
            "value": "Downloading pytorch_model.bin: 100%"
          }
        },
        "c2c7881760f647ba9a97915e93e7ce5f": {
          "model_module": "@jupyter-widgets/base",
          "model_module_version": "1.2.0",
          "model_name": "LayoutModel",
          "state": {
            "_model_module": "@jupyter-widgets/base",
            "_model_module_version": "1.2.0",
            "_model_name": "LayoutModel",
            "_view_count": null,
            "_view_module": "@jupyter-widgets/base",
            "_view_module_version": "1.2.0",
            "_view_name": "LayoutView",
            "align_content": null,
            "align_items": null,
            "align_self": null,
            "border": null,
            "bottom": null,
            "display": null,
            "flex": null,
            "flex_flow": null,
            "grid_area": null,
            "grid_auto_columns": null,
            "grid_auto_flow": null,
            "grid_auto_rows": null,
            "grid_column": null,
            "grid_gap": null,
            "grid_row": null,
            "grid_template_areas": null,
            "grid_template_columns": null,
            "grid_template_rows": null,
            "height": null,
            "justify_content": null,
            "justify_items": null,
            "left": null,
            "margin": null,
            "max_height": null,
            "max_width": null,
            "min_height": null,
            "min_width": null,
            "object_fit": null,
            "object_position": null,
            "order": null,
            "overflow": null,
            "overflow_x": null,
            "overflow_y": null,
            "padding": null,
            "right": null,
            "top": null,
            "visibility": null,
            "width": null
          }
        },
        "d1d79e7e216d42adb86e5c1e16bf1323": {
          "model_module": "@jupyter-widgets/controls",
          "model_module_version": "1.5.0",
          "model_name": "DescriptionStyleModel",
          "state": {
            "_model_module": "@jupyter-widgets/controls",
            "_model_module_version": "1.5.0",
            "_model_name": "DescriptionStyleModel",
            "_view_count": null,
            "_view_module": "@jupyter-widgets/base",
            "_view_module_version": "1.2.0",
            "_view_name": "StyleView",
            "description_width": ""
          }
        },
        "d22a07f6a589415fac48587ccd29bbb9": {
          "model_module": "@jupyter-widgets/base",
          "model_module_version": "1.2.0",
          "model_name": "LayoutModel",
          "state": {
            "_model_module": "@jupyter-widgets/base",
            "_model_module_version": "1.2.0",
            "_model_name": "LayoutModel",
            "_view_count": null,
            "_view_module": "@jupyter-widgets/base",
            "_view_module_version": "1.2.0",
            "_view_name": "LayoutView",
            "align_content": null,
            "align_items": null,
            "align_self": null,
            "border": null,
            "bottom": null,
            "display": null,
            "flex": null,
            "flex_flow": null,
            "grid_area": null,
            "grid_auto_columns": null,
            "grid_auto_flow": null,
            "grid_auto_rows": null,
            "grid_column": null,
            "grid_gap": null,
            "grid_row": null,
            "grid_template_areas": null,
            "grid_template_columns": null,
            "grid_template_rows": null,
            "height": null,
            "justify_content": null,
            "justify_items": null,
            "left": null,
            "margin": null,
            "max_height": null,
            "max_width": null,
            "min_height": null,
            "min_width": null,
            "object_fit": null,
            "object_position": null,
            "order": null,
            "overflow": null,
            "overflow_x": null,
            "overflow_y": null,
            "padding": null,
            "right": null,
            "top": null,
            "visibility": null,
            "width": null
          }
        },
        "d513ac3a33834ab0a5632c8c3b59f0c1": {
          "model_module": "@jupyter-widgets/controls",
          "model_module_version": "1.5.0",
          "model_name": "DescriptionStyleModel",
          "state": {
            "_model_module": "@jupyter-widgets/controls",
            "_model_module_version": "1.5.0",
            "_model_name": "DescriptionStyleModel",
            "_view_count": null,
            "_view_module": "@jupyter-widgets/base",
            "_view_module_version": "1.2.0",
            "_view_name": "StyleView",
            "description_width": ""
          }
        },
        "e6e08772161a48219a706b262cf7d3be": {
          "model_module": "@jupyter-widgets/controls",
          "model_module_version": "1.5.0",
          "model_name": "ProgressStyleModel",
          "state": {
            "_model_module": "@jupyter-widgets/controls",
            "_model_module_version": "1.5.0",
            "_model_name": "ProgressStyleModel",
            "_view_count": null,
            "_view_module": "@jupyter-widgets/base",
            "_view_module_version": "1.2.0",
            "_view_name": "StyleView",
            "bar_color": null,
            "description_width": ""
          }
        },
        "e9085af195ac4452bff7ec786ab962fa": {
          "model_module": "@jupyter-widgets/controls",
          "model_module_version": "1.5.0",
          "model_name": "DescriptionStyleModel",
          "state": {
            "_model_module": "@jupyter-widgets/controls",
            "_model_module_version": "1.5.0",
            "_model_name": "DescriptionStyleModel",
            "_view_count": null,
            "_view_module": "@jupyter-widgets/base",
            "_view_module_version": "1.2.0",
            "_view_name": "StyleView",
            "description_width": ""
          }
        },
        "f1b63aa712924993a9a4ec9a4b1d8103": {
          "model_module": "@jupyter-widgets/controls",
          "model_module_version": "1.5.0",
          "model_name": "DescriptionStyleModel",
          "state": {
            "_model_module": "@jupyter-widgets/controls",
            "_model_module_version": "1.5.0",
            "_model_name": "DescriptionStyleModel",
            "_view_count": null,
            "_view_module": "@jupyter-widgets/base",
            "_view_module_version": "1.2.0",
            "_view_name": "StyleView",
            "description_width": ""
          }
        },
        "fe56fca296ce4987821bbc144a41535a": {
          "model_module": "@jupyter-widgets/base",
          "model_module_version": "1.2.0",
          "model_name": "LayoutModel",
          "state": {
            "_model_module": "@jupyter-widgets/base",
            "_model_module_version": "1.2.0",
            "_model_name": "LayoutModel",
            "_view_count": null,
            "_view_module": "@jupyter-widgets/base",
            "_view_module_version": "1.2.0",
            "_view_name": "LayoutView",
            "align_content": null,
            "align_items": null,
            "align_self": null,
            "border": null,
            "bottom": null,
            "display": null,
            "flex": null,
            "flex_flow": null,
            "grid_area": null,
            "grid_auto_columns": null,
            "grid_auto_flow": null,
            "grid_auto_rows": null,
            "grid_column": null,
            "grid_gap": null,
            "grid_row": null,
            "grid_template_areas": null,
            "grid_template_columns": null,
            "grid_template_rows": null,
            "height": null,
            "justify_content": null,
            "justify_items": null,
            "left": null,
            "margin": null,
            "max_height": null,
            "max_width": null,
            "min_height": null,
            "min_width": null,
            "object_fit": null,
            "object_position": null,
            "order": null,
            "overflow": null,
            "overflow_x": null,
            "overflow_y": null,
            "padding": null,
            "right": null,
            "top": null,
            "visibility": null,
            "width": null
          }
        },
        "fe87582f415b40b8aa8c91f0cb9a264f": {
          "model_module": "@jupyter-widgets/controls",
          "model_module_version": "1.5.0",
          "model_name": "DescriptionStyleModel",
          "state": {
            "_model_module": "@jupyter-widgets/controls",
            "_model_module_version": "1.5.0",
            "_model_name": "DescriptionStyleModel",
            "_view_count": null,
            "_view_module": "@jupyter-widgets/base",
            "_view_module_version": "1.2.0",
            "_view_name": "StyleView",
            "description_width": ""
          }
        }
      }
    }
  },
  "nbformat": 4,
  "nbformat_minor": 0
}
